{
 "cells": [
  {
   "cell_type": "code",
   "execution_count": 1,
   "metadata": {},
   "outputs": [],
   "source": [
    "# _*_ coding: utf-8 _*_\n",
    "# @Time: 2021/11/29 24:17 \n",
    "# @Author: yuyongsheng\n",
    "# @Software: PyCharm\n",
    "# @Description: 上海六院甲氨蝶呤：3. 特征工程"
   ]
  },
  {
   "cell_type": "code",
   "execution_count": 2,
   "metadata": {},
   "outputs": [],
   "source": [
    "# 导入程序包\n",
    "import pymysql as MySQLDB\n",
    "import pandas as pd\n",
    "import numpy as np\n",
    "\n",
    "import re\n",
    "import sys\n",
    "import os\n",
    "project_path = os.getcwd()"
   ]
  },
  {
   "cell_type": "markdown",
   "metadata": {},
   "source": [
    "# 特征清洗"
   ]
  },
  {
   "cell_type": "code",
   "execution_count": 3,
   "metadata": {},
   "outputs": [],
   "source": [
    "df_model=pd.read_excel(project_path+'/data/processed_data/df_11.4_人工删除无意义列.xlsx')\n",
    "if 'Unnamed: 0' in df_model.columns:\n",
    "    df_model = df_model.drop(['Unnamed: 0'], axis=1)"
   ]
  },
  {
   "cell_type": "markdown",
   "metadata": {},
   "source": [
    "## 数据转换"
   ]
  },
  {
   "cell_type": "code",
   "execution_count": 4,
   "metadata": {},
   "outputs": [],
   "source": [
    "df_model['gender'] = df_model['gender'].str.replace(' ','').apply(lambda x: 1 if x == '男' else 0)"
   ]
  },
  {
   "cell_type": "markdown",
   "metadata": {},
   "source": [
    "## 删除无关特征"
   ]
  },
  {
   "cell_type": "code",
   "execution_count": 5,
   "metadata": {},
   "outputs": [
    {
     "data": {
      "text/plain": [
       "Index(['patient_id', 'case_no', 'drug_name', '日剂量', 'start_datetime',\n",
       "       'end_datetime', 'gender', 'age', 'MTX_tdm_0h', 'MTX_tdm_12h',\n",
       "       'MTX_tdm_24h', 'MTX_tdm_48h', '血红蛋白_before', '血红蛋白_3d', '白细胞_before',\n",
       "       '白细胞_3d', '粒细胞_before', '血小板_before', '血小板_3d', '血红蛋白_before_B',\n",
       "       '血红蛋白_3d_B', '血红蛋白_7d_B', '血红蛋白_14d_B', '白细胞_before_B', '白细胞_3d_B',\n",
       "       '白细胞_7d_B', '白细胞_14d_B', '粒细胞_before_B', '粒细胞_3d_B', '粒细胞_7d_B',\n",
       "       '粒细胞_14d_B', '血小板_before_B', '血小板_3d_B', '血小板_7d_B', '血小板_14d_B',\n",
       "       'bmd_before', 'bmd_3d', 'bmd_7d', 'bmd_14d', 'bmd_label', '吸烟史', '饮酒史',\n",
       "       '高血压', '糖尿病', '肝炎', '顺铂', '多柔比星', '异环磷酰胺', '依托泊苷', '多柔比星脂质体', '吡柔吡星',\n",
       "       '头孢类', '促红素', '抗凝血', '保肝药', 'treat_case', 'group', 'RBC平均容量',\n",
       "       'RBC平均血红量', 'RBC血红浓度', 'γ-谷氨酰酶(干式)', '中性细胞百分比', '中性细胞绝对值', '乳酸脱氢酶(干式)',\n",
       "       '单核细胞百分比', '单核细胞绝对值', '嗜碱性细胞百分比', '嗜碱性细胞绝对值', '嗜酸性细胞百分比', '嗜酸性细胞绝对值',\n",
       "       '总胆红素(干式)', '总蛋白(干式)', '淋巴细胞百分比', '淋巴细胞绝对值', '白蛋白(干式)', '碱性磷酸酶(干式)',\n",
       "       '红细胞', '红细胞分布宽度', '细胞比积', '肌酐(干式)', '血清氯(干式)', '血清钠(干式)', '血清钾(干式)',\n",
       "       '谷丙转氨酶(干式)', '谷草转氨酶(干式)', '非鳞状上皮细胞', '鳞状上皮细胞', '钙(干式)'],\n",
       "      dtype='object')"
      ]
     },
     "execution_count": 5,
     "metadata": {},
     "output_type": "execute_result"
    }
   ],
   "source": [
    "df_model.columns"
   ]
  },
  {
   "cell_type": "code",
   "execution_count": 6,
   "metadata": {},
   "outputs": [],
   "source": [
    "# 删除无关特征\n",
    "df_model=df_model.drop(['patient_id','case_no','drug_name','start_datetime','end_datetime'],axis=1)"
   ]
  },
  {
   "cell_type": "code",
   "execution_count": 7,
   "metadata": {},
   "outputs": [],
   "source": [
    "# 删除目标变强强相关列\n",
    "del df_model['bmd_before']\n",
    "del df_model['bmd_3d']\n",
    "df_model=df_model.drop(['血红蛋白_before','血红蛋白_3d','白细胞_before','白细胞_3d','粒细胞_before','血小板_before','血小板_3d',\n",
    "                '血红蛋白_before_B','血红蛋白_3d_B','白细胞_before_B','白细胞_3d_B','粒细胞_before_B','血小板_before_B'],axis=1)"
   ]
  },
  {
   "cell_type": "markdown",
   "metadata": {},
   "source": [
    "## 删除缺失超过50%的特征"
   ]
  },
  {
   "cell_type": "code",
   "execution_count": 8,
   "metadata": {},
   "outputs": [
    {
     "name": "stdout",
     "output_type": "stream",
     "text": [
      "血红蛋白_7d_B\n",
      "血红蛋白_14d_B\n",
      "白细胞_7d_B\n",
      "白细胞_14d_B\n",
      "粒细胞_3d_B\n",
      "粒细胞_7d_B\n",
      "粒细胞_14d_B\n",
      "血小板_7d_B\n",
      "血小板_14d_B\n"
     ]
    }
   ],
   "source": [
    "# 删除缺失超过50%的其他指标\n",
    "for i in df_model.columns:\n",
    "    if df_model[i].isnull().sum()/df_model.shape[0] >= 0.5:\n",
    "        print(i)\n",
    "        del df_model[i]"
   ]
  },
  {
   "cell_type": "code",
   "execution_count": 9,
   "metadata": {},
   "outputs": [
    {
     "name": "stdout",
     "output_type": "stream",
     "text": [
      "(718, 72)\n"
     ]
    }
   ],
   "source": [
    "print(df_model.shape)  # (106,101)"
   ]
  },
  {
   "cell_type": "markdown",
   "metadata": {},
   "source": [
    "## 删除分类极不平衡的特征"
   ]
  },
  {
   "cell_type": "code",
   "execution_count": 10,
   "metadata": {},
   "outputs": [
    {
     "name": "stdout",
     "output_type": "stream",
     "text": [
      "血小板_3d_B\n",
      "bmd_7d\n",
      "bmd_14d\n",
      "吸烟史\n",
      "饮酒史\n",
      "高血压\n",
      "糖尿病\n",
      "肝炎\n",
      "顺铂\n",
      "异环磷酰胺\n",
      "吡柔吡星\n",
      "头孢类\n",
      "促红素\n",
      "抗凝血\n"
     ]
    }
   ],
   "source": [
    "for i in df_model.columns:\n",
    "    if df_model[i].nunique() < 2:\n",
    "        del df_model[i]\n",
    "        continue\n",
    "    if df_model[i].nunique() == 2:\n",
    "        # 如果分类变量中某一变量的占比超过90%，则删除该指标\n",
    "        num_1 = df_model[i].value_counts()  # df一列中不同变量的数目\n",
    "        num_2 = num_1.div(df_model.shape[0])  # div除法，所有元素都除以相同数值\n",
    "        num_3 = num_2.max()  # 取出最大值\n",
    "        if num_3 >= 0.9:\n",
    "            print(i)\n",
    "            del df_model[i]"
   ]
  },
  {
   "cell_type": "code",
   "execution_count": 11,
   "metadata": {},
   "outputs": [
    {
     "name": "stdout",
     "output_type": "stream",
     "text": [
      "(718, 54)\n"
     ]
    }
   ],
   "source": [
    "print(df_model.shape) "
   ]
  },
  {
   "cell_type": "markdown",
   "metadata": {},
   "source": [
    "## 过滤异常值"
   ]
  },
  {
   "cell_type": "code",
   "execution_count": 12,
   "metadata": {},
   "outputs": [
    {
     "name": "stdout",
     "output_type": "stream",
     "text": [
      "红细胞\n",
      "鳞状上皮细胞\n"
     ]
    }
   ],
   "source": [
    "# 过滤异常值，大于正常值超过100倍！\n",
    "for i in df_model.columns:\n",
    "    # 测试特征是否存在异常值\n",
    "    median_value= max(df_model[i].median(),1)\n",
    "    max_value = df_model[i].max()\n",
    "    if max_value > 100 * median_value:\n",
    "        print(i)\n",
    "    df_model[i]=df_model[i].apply(lambda x: np.nan if x<0 or x!=x else 100*median_value if float(x) > 100*median_value else x)"
   ]
  },
  {
   "cell_type": "code",
   "execution_count": 13,
   "metadata": {},
   "outputs": [
    {
     "name": "stdout",
     "output_type": "stream",
     "text": [
      "(718, 54)\n"
     ]
    }
   ],
   "source": [
    "print(df_model.shape)  "
   ]
  },
  {
   "cell_type": "code",
   "execution_count": 14,
   "metadata": {},
   "outputs": [
    {
     "data": {
      "text/html": [
       "<div>\n",
       "<style scoped>\n",
       "    .dataframe tbody tr th:only-of-type {\n",
       "        vertical-align: middle;\n",
       "    }\n",
       "\n",
       "    .dataframe tbody tr th {\n",
       "        vertical-align: top;\n",
       "    }\n",
       "\n",
       "    .dataframe thead th {\n",
       "        text-align: right;\n",
       "    }\n",
       "</style>\n",
       "<table border=\"1\" class=\"dataframe\">\n",
       "  <thead>\n",
       "    <tr style=\"text-align: right;\">\n",
       "      <th></th>\n",
       "      <th>日剂量</th>\n",
       "      <th>gender</th>\n",
       "      <th>age</th>\n",
       "      <th>MTX_tdm_0h</th>\n",
       "      <th>MTX_tdm_12h</th>\n",
       "      <th>MTX_tdm_24h</th>\n",
       "      <th>MTX_tdm_48h</th>\n",
       "      <th>血红蛋白_before</th>\n",
       "      <th>血红蛋白_3d</th>\n",
       "      <th>白细胞_before</th>\n",
       "      <th>...</th>\n",
       "      <th>细胞比积</th>\n",
       "      <th>肌酐(干式)</th>\n",
       "      <th>血清氯(干式)</th>\n",
       "      <th>血清钠(干式)</th>\n",
       "      <th>血清钾(干式)</th>\n",
       "      <th>谷丙转氨酶(干式)</th>\n",
       "      <th>谷草转氨酶(干式)</th>\n",
       "      <th>非鳞状上皮细胞</th>\n",
       "      <th>鳞状上皮细胞</th>\n",
       "      <th>钙(干式)</th>\n",
       "    </tr>\n",
       "  </thead>\n",
       "  <tbody>\n",
       "    <tr>\n",
       "      <th>0</th>\n",
       "      <td>16.0</td>\n",
       "      <td>1</td>\n",
       "      <td>47</td>\n",
       "      <td>466.17</td>\n",
       "      <td>NaN</td>\n",
       "      <td>1.00</td>\n",
       "      <td>1.00</td>\n",
       "      <td>138.0</td>\n",
       "      <td>129.0</td>\n",
       "      <td>5.1</td>\n",
       "      <td>...</td>\n",
       "      <td>41.1</td>\n",
       "      <td>52.0</td>\n",
       "      <td>101.0</td>\n",
       "      <td>141.0</td>\n",
       "      <td>3.9</td>\n",
       "      <td>69.0</td>\n",
       "      <td>32.0</td>\n",
       "      <td>1.0</td>\n",
       "      <td>0.0</td>\n",
       "      <td>NaN</td>\n",
       "    </tr>\n",
       "    <tr>\n",
       "      <th>1</th>\n",
       "      <td>12.0</td>\n",
       "      <td>0</td>\n",
       "      <td>12</td>\n",
       "      <td>652.70</td>\n",
       "      <td>NaN</td>\n",
       "      <td>169.44</td>\n",
       "      <td>49.60</td>\n",
       "      <td>137.0</td>\n",
       "      <td>120.0</td>\n",
       "      <td>5.3</td>\n",
       "      <td>...</td>\n",
       "      <td>36.3</td>\n",
       "      <td>173.0</td>\n",
       "      <td>100.0</td>\n",
       "      <td>145.0</td>\n",
       "      <td>3.9</td>\n",
       "      <td>1874.0</td>\n",
       "      <td>1520.0</td>\n",
       "      <td>1.0</td>\n",
       "      <td>12.0</td>\n",
       "      <td>1.74</td>\n",
       "    </tr>\n",
       "    <tr>\n",
       "      <th>2</th>\n",
       "      <td>17.0</td>\n",
       "      <td>1</td>\n",
       "      <td>19</td>\n",
       "      <td>536.85</td>\n",
       "      <td>NaN</td>\n",
       "      <td>4.23</td>\n",
       "      <td>0.10</td>\n",
       "      <td>134.0</td>\n",
       "      <td>131.0</td>\n",
       "      <td>5.5</td>\n",
       "      <td>...</td>\n",
       "      <td>37.1</td>\n",
       "      <td>56.0</td>\n",
       "      <td>102.0</td>\n",
       "      <td>141.0</td>\n",
       "      <td>3.6</td>\n",
       "      <td>249.0</td>\n",
       "      <td>95.0</td>\n",
       "      <td>0.0</td>\n",
       "      <td>1.0</td>\n",
       "      <td>NaN</td>\n",
       "    </tr>\n",
       "    <tr>\n",
       "      <th>3</th>\n",
       "      <td>16.0</td>\n",
       "      <td>0</td>\n",
       "      <td>55</td>\n",
       "      <td>743.58</td>\n",
       "      <td>NaN</td>\n",
       "      <td>4.73</td>\n",
       "      <td>0.10</td>\n",
       "      <td>116.0</td>\n",
       "      <td>105.0</td>\n",
       "      <td>6.9</td>\n",
       "      <td>...</td>\n",
       "      <td>31.3</td>\n",
       "      <td>41.0</td>\n",
       "      <td>99.0</td>\n",
       "      <td>138.0</td>\n",
       "      <td>3.7</td>\n",
       "      <td>73.0</td>\n",
       "      <td>44.0</td>\n",
       "      <td>0.0</td>\n",
       "      <td>1.0</td>\n",
       "      <td>NaN</td>\n",
       "    </tr>\n",
       "    <tr>\n",
       "      <th>4</th>\n",
       "      <td>14.0</td>\n",
       "      <td>0</td>\n",
       "      <td>13</td>\n",
       "      <td>647.56</td>\n",
       "      <td>47.74</td>\n",
       "      <td>5.22</td>\n",
       "      <td>0.10</td>\n",
       "      <td>NaN</td>\n",
       "      <td>108.0</td>\n",
       "      <td>NaN</td>\n",
       "      <td>...</td>\n",
       "      <td>32.5</td>\n",
       "      <td>35.0</td>\n",
       "      <td>105.0</td>\n",
       "      <td>144.0</td>\n",
       "      <td>3.7</td>\n",
       "      <td>904.0</td>\n",
       "      <td>663.0</td>\n",
       "      <td>0.0</td>\n",
       "      <td>2.0</td>\n",
       "      <td>2.33</td>\n",
       "    </tr>\n",
       "    <tr>\n",
       "      <th>...</th>\n",
       "      <td>...</td>\n",
       "      <td>...</td>\n",
       "      <td>...</td>\n",
       "      <td>...</td>\n",
       "      <td>...</td>\n",
       "      <td>...</td>\n",
       "      <td>...</td>\n",
       "      <td>...</td>\n",
       "      <td>...</td>\n",
       "      <td>...</td>\n",
       "      <td>...</td>\n",
       "      <td>...</td>\n",
       "      <td>...</td>\n",
       "      <td>...</td>\n",
       "      <td>...</td>\n",
       "      <td>...</td>\n",
       "      <td>...</td>\n",
       "      <td>...</td>\n",
       "      <td>...</td>\n",
       "      <td>...</td>\n",
       "      <td>...</td>\n",
       "    </tr>\n",
       "    <tr>\n",
       "      <th>713</th>\n",
       "      <td>15.0</td>\n",
       "      <td>1</td>\n",
       "      <td>16</td>\n",
       "      <td>1048.80</td>\n",
       "      <td>77.50</td>\n",
       "      <td>15.60</td>\n",
       "      <td>0.10</td>\n",
       "      <td>150.0</td>\n",
       "      <td>144.0</td>\n",
       "      <td>6.4</td>\n",
       "      <td>...</td>\n",
       "      <td>39.5</td>\n",
       "      <td>43.0</td>\n",
       "      <td>104.0</td>\n",
       "      <td>138.0</td>\n",
       "      <td>4.1</td>\n",
       "      <td>315.0</td>\n",
       "      <td>187.0</td>\n",
       "      <td>0.0</td>\n",
       "      <td>2.0</td>\n",
       "      <td>2.19</td>\n",
       "    </tr>\n",
       "    <tr>\n",
       "      <th>714</th>\n",
       "      <td>19.0</td>\n",
       "      <td>1</td>\n",
       "      <td>29</td>\n",
       "      <td>756.80</td>\n",
       "      <td>54.50</td>\n",
       "      <td>14.25</td>\n",
       "      <td>2.00</td>\n",
       "      <td>131.0</td>\n",
       "      <td>133.0</td>\n",
       "      <td>7.5</td>\n",
       "      <td>...</td>\n",
       "      <td>36.6</td>\n",
       "      <td>43.0</td>\n",
       "      <td>101.0</td>\n",
       "      <td>135.0</td>\n",
       "      <td>4.1</td>\n",
       "      <td>135.0</td>\n",
       "      <td>101.0</td>\n",
       "      <td>0.0</td>\n",
       "      <td>0.0</td>\n",
       "      <td>2.28</td>\n",
       "    </tr>\n",
       "    <tr>\n",
       "      <th>715</th>\n",
       "      <td>19.0</td>\n",
       "      <td>1</td>\n",
       "      <td>17</td>\n",
       "      <td>998.20</td>\n",
       "      <td>59.00</td>\n",
       "      <td>11.80</td>\n",
       "      <td>0.10</td>\n",
       "      <td>118.0</td>\n",
       "      <td>113.0</td>\n",
       "      <td>13.4</td>\n",
       "      <td>...</td>\n",
       "      <td>33.0</td>\n",
       "      <td>59.0</td>\n",
       "      <td>100.0</td>\n",
       "      <td>137.0</td>\n",
       "      <td>3.7</td>\n",
       "      <td>154.0</td>\n",
       "      <td>96.0</td>\n",
       "      <td>0.0</td>\n",
       "      <td>0.0</td>\n",
       "      <td>2.16</td>\n",
       "    </tr>\n",
       "    <tr>\n",
       "      <th>716</th>\n",
       "      <td>19.0</td>\n",
       "      <td>1</td>\n",
       "      <td>26</td>\n",
       "      <td>1137.50</td>\n",
       "      <td>134.90</td>\n",
       "      <td>34.20</td>\n",
       "      <td>10.70</td>\n",
       "      <td>123.0</td>\n",
       "      <td>130.0</td>\n",
       "      <td>5.4</td>\n",
       "      <td>...</td>\n",
       "      <td>40.3</td>\n",
       "      <td>72.0</td>\n",
       "      <td>98.0</td>\n",
       "      <td>137.0</td>\n",
       "      <td>3.7</td>\n",
       "      <td>144.0</td>\n",
       "      <td>119.0</td>\n",
       "      <td>0.0</td>\n",
       "      <td>1.0</td>\n",
       "      <td>2.26</td>\n",
       "    </tr>\n",
       "    <tr>\n",
       "      <th>717</th>\n",
       "      <td>16.0</td>\n",
       "      <td>1</td>\n",
       "      <td>15</td>\n",
       "      <td>595.60</td>\n",
       "      <td>NaN</td>\n",
       "      <td>13.60</td>\n",
       "      <td>0.88</td>\n",
       "      <td>136.0</td>\n",
       "      <td>135.0</td>\n",
       "      <td>7.5</td>\n",
       "      <td>...</td>\n",
       "      <td>36.8</td>\n",
       "      <td>41.0</td>\n",
       "      <td>100.0</td>\n",
       "      <td>138.0</td>\n",
       "      <td>4.4</td>\n",
       "      <td>79.0</td>\n",
       "      <td>59.0</td>\n",
       "      <td>0.0</td>\n",
       "      <td>0.0</td>\n",
       "      <td>2.08</td>\n",
       "    </tr>\n",
       "  </tbody>\n",
       "</table>\n",
       "<p>718 rows × 54 columns</p>\n",
       "</div>"
      ],
      "text/plain": [
       "      日剂量  gender  age  MTX_tdm_0h  MTX_tdm_12h  MTX_tdm_24h  MTX_tdm_48h  \\\n",
       "0    16.0       1   47      466.17          NaN         1.00         1.00   \n",
       "1    12.0       0   12      652.70          NaN       169.44        49.60   \n",
       "2    17.0       1   19      536.85          NaN         4.23         0.10   \n",
       "3    16.0       0   55      743.58          NaN         4.73         0.10   \n",
       "4    14.0       0   13      647.56        47.74         5.22         0.10   \n",
       "..    ...     ...  ...         ...          ...          ...          ...   \n",
       "713  15.0       1   16     1048.80        77.50        15.60         0.10   \n",
       "714  19.0       1   29      756.80        54.50        14.25         2.00   \n",
       "715  19.0       1   17      998.20        59.00        11.80         0.10   \n",
       "716  19.0       1   26     1137.50       134.90        34.20        10.70   \n",
       "717  16.0       1   15      595.60          NaN        13.60         0.88   \n",
       "\n",
       "     血红蛋白_before  血红蛋白_3d  白细胞_before  ...  细胞比积  肌酐(干式)  血清氯(干式)  血清钠(干式)  \\\n",
       "0          138.0    129.0         5.1  ...  41.1    52.0    101.0    141.0   \n",
       "1          137.0    120.0         5.3  ...  36.3   173.0    100.0    145.0   \n",
       "2          134.0    131.0         5.5  ...  37.1    56.0    102.0    141.0   \n",
       "3          116.0    105.0         6.9  ...  31.3    41.0     99.0    138.0   \n",
       "4            NaN    108.0         NaN  ...  32.5    35.0    105.0    144.0   \n",
       "..           ...      ...         ...  ...   ...     ...      ...      ...   \n",
       "713        150.0    144.0         6.4  ...  39.5    43.0    104.0    138.0   \n",
       "714        131.0    133.0         7.5  ...  36.6    43.0    101.0    135.0   \n",
       "715        118.0    113.0        13.4  ...  33.0    59.0    100.0    137.0   \n",
       "716        123.0    130.0         5.4  ...  40.3    72.0     98.0    137.0   \n",
       "717        136.0    135.0         7.5  ...  36.8    41.0    100.0    138.0   \n",
       "\n",
       "     血清钾(干式)  谷丙转氨酶(干式)  谷草转氨酶(干式)  非鳞状上皮细胞  鳞状上皮细胞  钙(干式)  \n",
       "0        3.9       69.0       32.0      1.0     0.0    NaN  \n",
       "1        3.9     1874.0     1520.0      1.0    12.0   1.74  \n",
       "2        3.6      249.0       95.0      0.0     1.0    NaN  \n",
       "3        3.7       73.0       44.0      0.0     1.0    NaN  \n",
       "4        3.7      904.0      663.0      0.0     2.0   2.33  \n",
       "..       ...        ...        ...      ...     ...    ...  \n",
       "713      4.1      315.0      187.0      0.0     2.0   2.19  \n",
       "714      4.1      135.0      101.0      0.0     0.0   2.28  \n",
       "715      3.7      154.0       96.0      0.0     0.0   2.16  \n",
       "716      3.7      144.0      119.0      0.0     1.0   2.26  \n",
       "717      4.4       79.0       59.0      0.0     0.0   2.08  \n",
       "\n",
       "[718 rows x 54 columns]"
      ]
     },
     "execution_count": 14,
     "metadata": {},
     "output_type": "execute_result"
    }
   ],
   "source": [
    "df_model"
   ]
  },
  {
   "cell_type": "code",
   "execution_count": 15,
   "metadata": {},
   "outputs": [],
   "source": [
    "# 保存特征清洗\n",
    "writer = pd.ExcelWriter(project_path + '/data/result/feature_engineering/df_1_特征清洗.xlsx')\n",
    "df_model.to_excel(writer)\n",
    "writer.save()"
   ]
  },
  {
   "cell_type": "markdown",
   "metadata": {},
   "source": [
    "# 相关性分析"
   ]
  },
  {
   "cell_type": "code",
   "execution_count": 16,
   "metadata": {},
   "outputs": [],
   "source": [
    "discrete_col=['gender','保肝药',]\n",
    "continuous_col=[x for x in df_model.columns if x not in discrete_col]\n",
    "continuous_col.remove('bmd_label')"
   ]
  },
  {
   "cell_type": "markdown",
   "metadata": {},
   "source": [
    "## 分类变量相关性分析"
   ]
  },
  {
   "cell_type": "code",
   "execution_count": 17,
   "metadata": {},
   "outputs": [],
   "source": [
    "# 二分类卡方检验\n",
    "from scipy.stats import chi2_contingency\n",
    "feature_list=[]\n",
    "y_list=[]\n",
    "t_list=[]\n",
    "p_list=[]\n",
    "sig_list=[]\n",
    "for i in discrete_col:\n",
    "    result = chi2_contingency(pd.crosstab(df_model['bmd_label'],df_model[i]))\n",
    "    t,p=result[0:2]\n",
    "    feature_list.append(i)\n",
    "    y_list.append('卡方检验')\n",
    "    t_list.append(t)\n",
    "    p_list.append(p)\n",
    "    if p <=0.05:\n",
    "        sig='显著'\n",
    "    else:\n",
    "        sig='不显著'\n",
    "    sig_list.append(sig)"
   ]
  },
  {
   "cell_type": "code",
   "execution_count": 18,
   "metadata": {},
   "outputs": [],
   "source": [
    "df_result_dis=pd.DataFrame({'特征':feature_list,\n",
    "                        '检验指标':y_list,\n",
    "                        't值':t_list,\n",
    "                        'p值':p_list,\n",
    "                        '显著性结果':sig_list})"
   ]
  },
  {
   "cell_type": "code",
   "execution_count": 19,
   "metadata": {},
   "outputs": [],
   "source": [
    "# psm分类变量显著性检验\n",
    "writer=pd.ExcelWriter(project_path+'/data/result/feature_engineering/df_2.1_分类变量显著性检验.xlsx')\n",
    "df_result_dis.to_excel(writer)\n",
    "writer.save()"
   ]
  },
  {
   "cell_type": "markdown",
   "metadata": {},
   "source": [
    "## 连续变量相关性分析"
   ]
  },
  {
   "cell_type": "code",
   "execution_count": 20,
   "metadata": {},
   "outputs": [],
   "source": [
    "from scipy.stats import kstest,shapiro\n",
    "##检验是否正态\n",
    "def norm_test(data):\n",
    "    if len(data) > 30:\n",
    "        norm, p = kstest(data, 'norm')\n",
    "    else:\n",
    "        norm, p = shapiro(data)\n",
    "    #print(t,p)\n",
    "    if p>=0.05:\n",
    "        return True\n",
    "    else:\n",
    "        return False"
   ]
  },
  {
   "cell_type": "code",
   "execution_count": 21,
   "metadata": {},
   "outputs": [],
   "source": [
    "import scipy.stats as st\n",
    "# 连续变量的显著性检验\n",
    "def test2(data_b, data_p):\n",
    "    if norm_test(data_b) and norm_test(data_p):\n",
    "        x = 1\n",
    "        y = '独立样本T检验'\n",
    "        t, p = st.ttest_ind(list(data_b),list(data_p), nan_policy='omit')\n",
    "    else:\n",
    "        x = 0\n",
    "        y = 'Mann-Whitney U检验'\n",
    "        t,p = st.mannwhitneyu(list(data_b),list(data_p))\n",
    "    return x,y,t,p"
   ]
  },
  {
   "cell_type": "code",
   "execution_count": 22,
   "metadata": {},
   "outputs": [],
   "source": [
    "def sig_test(df_high,df_low,list):\n",
    "\n",
    "    feature_list=[]  # 特征列表\n",
    "    y_list=[]  # 显著性检验方法\n",
    "    t_list=[]  # 统计量\n",
    "    p_list=[]  # p值\n",
    "    result_list=[]  # 是否显著\n",
    "    high_mean_list=[]\n",
    "    low_mean_list=[]\n",
    "\n",
    "    for i in list:\n",
    "        # 高剂量组统计\n",
    "        df_high_nt=df_high[df_high[i].notnull()]\n",
    "        data_high=df_high_nt[i]\n",
    "        high_mean=round(data_high.mean(),2)\n",
    "        \n",
    "        df_low_nt=df_low[df_low[i].notnull()]\n",
    "        data_low=df_low_nt[i]\n",
    "        low_mean=round(data_low.mean(),2)\n",
    "\n",
    "        # 计算高低剂量组显著性差异\n",
    "        if data_high.shape[0] >= 10 and data_low.shape[0]>=10:\n",
    "            # 连续变量检验\n",
    "            x,y,t,p = test2(data_high, data_low)\n",
    "            if p <=0.05:\n",
    "                sig='显著'\n",
    "            else:\n",
    "                sig='不显著'\n",
    "            # 显著性 \n",
    "            feature_list.append(i)\n",
    "            y_list.append(y)\n",
    "            t_list.append(t)\n",
    "            p_list.append(p)\n",
    "            result_list.append(sig)\n",
    "            high_mean_list.append(high_mean)\n",
    "            low_mean_list.append(low_mean)\n",
    "\n",
    "    df_result=pd.DataFrame({'特征':feature_list,\n",
    "                            '高剂量均值':high_mean_list,\n",
    "                            '低剂量均值':low_mean_list,\n",
    "                            '检验指标':y_list,\n",
    "                            't值':t_list,\n",
    "                            'p值':p_list,\n",
    "                            '显著性结果':result_list})\n",
    "    return df_result"
   ]
  },
  {
   "cell_type": "code",
   "execution_count": 23,
   "metadata": {},
   "outputs": [],
   "source": [
    "# 提取甲氨蝶呤不同标签\n",
    "df_MTX_high = df_model[df_model['bmd_label']==1]\n",
    "df_MTX_low = df_model[df_model['bmd_label']==0]"
   ]
  },
  {
   "cell_type": "code",
   "execution_count": 24,
   "metadata": {},
   "outputs": [
    {
     "name": "stderr",
     "output_type": "stream",
     "text": [
      "D:\\Anaconda3\\lib\\site-packages\\scipy\\stats\\morestats.py:1678: UserWarning: Input data for shapiro has range zero. The results may not be accurate.\n",
      "  warnings.warn(\"Input data for shapiro has range zero. The results \"\n"
     ]
    }
   ],
   "source": [
    "# 甲氨蝶呤高低剂量组PSM控制变量统计和显著性检验\n",
    "df_MTX_PSM_sig = sig_test(df_MTX_high,df_MTX_low,continuous_col)\n",
    "df_MTX_PSM_sig = df_MTX_PSM_sig.reset_index(drop=True)"
   ]
  },
  {
   "cell_type": "code",
   "execution_count": 25,
   "metadata": {},
   "outputs": [],
   "source": [
    "# 保存高低剂量组PSM控制变量统计和显著性检验\n",
    "writer=pd.ExcelWriter(project_path+r'/data/result/feature_engineering/df_2.2_连续变量相关性分析.xlsx')\n",
    "df_MTX_PSM_sig.to_excel(writer)\n",
    "writer.save()"
   ]
  },
  {
   "cell_type": "code",
   "execution_count": 26,
   "metadata": {},
   "outputs": [],
   "source": [
    "continuous_relate = df_MTX_PSM_sig[df_MTX_PSM_sig['显著性结果']=='不显著']['特征']"
   ]
  },
  {
   "cell_type": "code",
   "execution_count": 27,
   "metadata": {},
   "outputs": [
    {
     "data": {
      "text/plain": [
       "0               日剂量\n",
       "1               age\n",
       "3       MTX_tdm_12h\n",
       "4       MTX_tdm_24h\n",
       "5       MTX_tdm_48h\n",
       "10       粒细胞_before\n",
       "11       血小板_before\n",
       "12           血小板_3d\n",
       "13    血红蛋白_before_B\n",
       "17     粒细胞_before_B\n",
       "18     血小板_before_B\n",
       "19            group\n",
       "20          RBC平均容量\n",
       "21         RBC平均血红量\n",
       "22          RBC血红浓度\n",
       "23       γ-谷氨酰酶(干式)\n",
       "27          单核细胞百分比\n",
       "29         嗜碱性细胞百分比\n",
       "30         嗜碱性细胞绝对值\n",
       "33         总胆红素(干式)\n",
       "34          总蛋白(干式)\n",
       "36          淋巴细胞绝对值\n",
       "37          白蛋白(干式)\n",
       "38        碱性磷酸酶(干式)\n",
       "39              红细胞\n",
       "40          红细胞分布宽度\n",
       "42           肌酐(干式)\n",
       "43          血清氯(干式)\n",
       "45          血清钾(干式)\n",
       "46        谷丙转氨酶(干式)\n",
       "47        谷草转氨酶(干式)\n",
       "48          非鳞状上皮细胞\n",
       "49           鳞状上皮细胞\n",
       "50            钙(干式)\n",
       "Name: 特征, dtype: object"
      ]
     },
     "execution_count": 27,
     "metadata": {},
     "output_type": "execute_result"
    }
   ],
   "source": [
    "continuous_relate"
   ]
  },
  {
   "cell_type": "markdown",
   "metadata": {},
   "source": [
    "# 重要性评分排序"
   ]
  },
  {
   "cell_type": "code",
   "execution_count": 28,
   "metadata": {},
   "outputs": [],
   "source": [
    "# 提取相关性特征\n",
    "feature_relate=discrete_col + list(continuous_relate)\n",
    "# 加入目标变量\n",
    "feature_relate.insert(0,'bmd_label')"
   ]
  },
  {
   "cell_type": "code",
   "execution_count": 29,
   "metadata": {},
   "outputs": [],
   "source": [
    "feature_relate.remove('group')"
   ]
  },
  {
   "cell_type": "code",
   "execution_count": 30,
   "metadata": {},
   "outputs": [],
   "source": [
    "df_model_relate=df_model[feature_relate]"
   ]
  },
  {
   "cell_type": "code",
   "execution_count": 31,
   "metadata": {},
   "outputs": [
    {
     "data": {
      "text/html": [
       "<div>\n",
       "<style scoped>\n",
       "    .dataframe tbody tr th:only-of-type {\n",
       "        vertical-align: middle;\n",
       "    }\n",
       "\n",
       "    .dataframe tbody tr th {\n",
       "        vertical-align: top;\n",
       "    }\n",
       "\n",
       "    .dataframe thead th {\n",
       "        text-align: right;\n",
       "    }\n",
       "</style>\n",
       "<table border=\"1\" class=\"dataframe\">\n",
       "  <thead>\n",
       "    <tr style=\"text-align: right;\">\n",
       "      <th></th>\n",
       "      <th>bmd_label</th>\n",
       "      <th>gender</th>\n",
       "      <th>保肝药</th>\n",
       "      <th>日剂量</th>\n",
       "      <th>age</th>\n",
       "      <th>MTX_tdm_12h</th>\n",
       "      <th>MTX_tdm_24h</th>\n",
       "      <th>MTX_tdm_48h</th>\n",
       "      <th>粒细胞_before</th>\n",
       "      <th>血小板_before</th>\n",
       "      <th>...</th>\n",
       "      <th>红细胞</th>\n",
       "      <th>红细胞分布宽度</th>\n",
       "      <th>肌酐(干式)</th>\n",
       "      <th>血清氯(干式)</th>\n",
       "      <th>血清钾(干式)</th>\n",
       "      <th>谷丙转氨酶(干式)</th>\n",
       "      <th>谷草转氨酶(干式)</th>\n",
       "      <th>非鳞状上皮细胞</th>\n",
       "      <th>鳞状上皮细胞</th>\n",
       "      <th>钙(干式)</th>\n",
       "    </tr>\n",
       "  </thead>\n",
       "  <tbody>\n",
       "    <tr>\n",
       "      <th>0</th>\n",
       "      <td>1</td>\n",
       "      <td>1</td>\n",
       "      <td>0</td>\n",
       "      <td>16.0</td>\n",
       "      <td>47</td>\n",
       "      <td>NaN</td>\n",
       "      <td>1.00</td>\n",
       "      <td>1.00</td>\n",
       "      <td>NaN</td>\n",
       "      <td>218.0</td>\n",
       "      <td>...</td>\n",
       "      <td>0.00</td>\n",
       "      <td>14.0</td>\n",
       "      <td>52.0</td>\n",
       "      <td>101.0</td>\n",
       "      <td>3.9</td>\n",
       "      <td>69.0</td>\n",
       "      <td>32.0</td>\n",
       "      <td>1.0</td>\n",
       "      <td>0.0</td>\n",
       "      <td>NaN</td>\n",
       "    </tr>\n",
       "    <tr>\n",
       "      <th>1</th>\n",
       "      <td>1</td>\n",
       "      <td>0</td>\n",
       "      <td>1</td>\n",
       "      <td>12.0</td>\n",
       "      <td>12</td>\n",
       "      <td>NaN</td>\n",
       "      <td>169.44</td>\n",
       "      <td>49.60</td>\n",
       "      <td>NaN</td>\n",
       "      <td>183.0</td>\n",
       "      <td>...</td>\n",
       "      <td>365.50</td>\n",
       "      <td>11.1</td>\n",
       "      <td>173.0</td>\n",
       "      <td>100.0</td>\n",
       "      <td>3.9</td>\n",
       "      <td>1874.0</td>\n",
       "      <td>1520.0</td>\n",
       "      <td>1.0</td>\n",
       "      <td>12.0</td>\n",
       "      <td>1.74</td>\n",
       "    </tr>\n",
       "    <tr>\n",
       "      <th>2</th>\n",
       "      <td>1</td>\n",
       "      <td>1</td>\n",
       "      <td>0</td>\n",
       "      <td>17.0</td>\n",
       "      <td>19</td>\n",
       "      <td>NaN</td>\n",
       "      <td>4.23</td>\n",
       "      <td>0.10</td>\n",
       "      <td>NaN</td>\n",
       "      <td>327.0</td>\n",
       "      <td>...</td>\n",
       "      <td>1.00</td>\n",
       "      <td>15.4</td>\n",
       "      <td>56.0</td>\n",
       "      <td>102.0</td>\n",
       "      <td>3.6</td>\n",
       "      <td>249.0</td>\n",
       "      <td>95.0</td>\n",
       "      <td>0.0</td>\n",
       "      <td>1.0</td>\n",
       "      <td>NaN</td>\n",
       "    </tr>\n",
       "    <tr>\n",
       "      <th>3</th>\n",
       "      <td>1</td>\n",
       "      <td>0</td>\n",
       "      <td>0</td>\n",
       "      <td>16.0</td>\n",
       "      <td>55</td>\n",
       "      <td>NaN</td>\n",
       "      <td>4.73</td>\n",
       "      <td>0.10</td>\n",
       "      <td>NaN</td>\n",
       "      <td>400.0</td>\n",
       "      <td>...</td>\n",
       "      <td>0.00</td>\n",
       "      <td>14.0</td>\n",
       "      <td>41.0</td>\n",
       "      <td>99.0</td>\n",
       "      <td>3.7</td>\n",
       "      <td>73.0</td>\n",
       "      <td>44.0</td>\n",
       "      <td>0.0</td>\n",
       "      <td>1.0</td>\n",
       "      <td>NaN</td>\n",
       "    </tr>\n",
       "    <tr>\n",
       "      <th>4</th>\n",
       "      <td>1</td>\n",
       "      <td>0</td>\n",
       "      <td>1</td>\n",
       "      <td>14.0</td>\n",
       "      <td>13</td>\n",
       "      <td>47.74</td>\n",
       "      <td>5.22</td>\n",
       "      <td>0.10</td>\n",
       "      <td>NaN</td>\n",
       "      <td>NaN</td>\n",
       "      <td>...</td>\n",
       "      <td>2.00</td>\n",
       "      <td>14.2</td>\n",
       "      <td>35.0</td>\n",
       "      <td>105.0</td>\n",
       "      <td>3.7</td>\n",
       "      <td>904.0</td>\n",
       "      <td>663.0</td>\n",
       "      <td>0.0</td>\n",
       "      <td>2.0</td>\n",
       "      <td>2.33</td>\n",
       "    </tr>\n",
       "    <tr>\n",
       "      <th>...</th>\n",
       "      <td>...</td>\n",
       "      <td>...</td>\n",
       "      <td>...</td>\n",
       "      <td>...</td>\n",
       "      <td>...</td>\n",
       "      <td>...</td>\n",
       "      <td>...</td>\n",
       "      <td>...</td>\n",
       "      <td>...</td>\n",
       "      <td>...</td>\n",
       "      <td>...</td>\n",
       "      <td>...</td>\n",
       "      <td>...</td>\n",
       "      <td>...</td>\n",
       "      <td>...</td>\n",
       "      <td>...</td>\n",
       "      <td>...</td>\n",
       "      <td>...</td>\n",
       "      <td>...</td>\n",
       "      <td>...</td>\n",
       "      <td>...</td>\n",
       "    </tr>\n",
       "    <tr>\n",
       "      <th>713</th>\n",
       "      <td>0</td>\n",
       "      <td>1</td>\n",
       "      <td>1</td>\n",
       "      <td>15.0</td>\n",
       "      <td>16</td>\n",
       "      <td>77.50</td>\n",
       "      <td>15.60</td>\n",
       "      <td>0.10</td>\n",
       "      <td>0.24</td>\n",
       "      <td>263.0</td>\n",
       "      <td>...</td>\n",
       "      <td>0.00</td>\n",
       "      <td>13.0</td>\n",
       "      <td>43.0</td>\n",
       "      <td>104.0</td>\n",
       "      <td>4.1</td>\n",
       "      <td>315.0</td>\n",
       "      <td>187.0</td>\n",
       "      <td>0.0</td>\n",
       "      <td>2.0</td>\n",
       "      <td>2.19</td>\n",
       "    </tr>\n",
       "    <tr>\n",
       "      <th>714</th>\n",
       "      <td>0</td>\n",
       "      <td>1</td>\n",
       "      <td>1</td>\n",
       "      <td>19.0</td>\n",
       "      <td>29</td>\n",
       "      <td>54.50</td>\n",
       "      <td>14.25</td>\n",
       "      <td>2.00</td>\n",
       "      <td>0.03</td>\n",
       "      <td>237.0</td>\n",
       "      <td>...</td>\n",
       "      <td>4.14</td>\n",
       "      <td>14.0</td>\n",
       "      <td>43.0</td>\n",
       "      <td>101.0</td>\n",
       "      <td>4.1</td>\n",
       "      <td>135.0</td>\n",
       "      <td>101.0</td>\n",
       "      <td>0.0</td>\n",
       "      <td>0.0</td>\n",
       "      <td>2.28</td>\n",
       "    </tr>\n",
       "    <tr>\n",
       "      <th>715</th>\n",
       "      <td>0</td>\n",
       "      <td>1</td>\n",
       "      <td>1</td>\n",
       "      <td>19.0</td>\n",
       "      <td>17</td>\n",
       "      <td>59.00</td>\n",
       "      <td>11.80</td>\n",
       "      <td>0.10</td>\n",
       "      <td>1.14</td>\n",
       "      <td>141.0</td>\n",
       "      <td>...</td>\n",
       "      <td>3.85</td>\n",
       "      <td>13.7</td>\n",
       "      <td>59.0</td>\n",
       "      <td>100.0</td>\n",
       "      <td>3.7</td>\n",
       "      <td>154.0</td>\n",
       "      <td>96.0</td>\n",
       "      <td>0.0</td>\n",
       "      <td>0.0</td>\n",
       "      <td>2.16</td>\n",
       "    </tr>\n",
       "    <tr>\n",
       "      <th>716</th>\n",
       "      <td>0</td>\n",
       "      <td>1</td>\n",
       "      <td>1</td>\n",
       "      <td>19.0</td>\n",
       "      <td>26</td>\n",
       "      <td>134.90</td>\n",
       "      <td>34.20</td>\n",
       "      <td>10.70</td>\n",
       "      <td>NaN</td>\n",
       "      <td>333.0</td>\n",
       "      <td>...</td>\n",
       "      <td>4.72</td>\n",
       "      <td>17.0</td>\n",
       "      <td>72.0</td>\n",
       "      <td>98.0</td>\n",
       "      <td>3.7</td>\n",
       "      <td>144.0</td>\n",
       "      <td>119.0</td>\n",
       "      <td>0.0</td>\n",
       "      <td>1.0</td>\n",
       "      <td>2.26</td>\n",
       "    </tr>\n",
       "    <tr>\n",
       "      <th>717</th>\n",
       "      <td>0</td>\n",
       "      <td>1</td>\n",
       "      <td>1</td>\n",
       "      <td>16.0</td>\n",
       "      <td>15</td>\n",
       "      <td>NaN</td>\n",
       "      <td>13.60</td>\n",
       "      <td>0.88</td>\n",
       "      <td>0.03</td>\n",
       "      <td>208.0</td>\n",
       "      <td>...</td>\n",
       "      <td>5.00</td>\n",
       "      <td>12.0</td>\n",
       "      <td>41.0</td>\n",
       "      <td>100.0</td>\n",
       "      <td>4.4</td>\n",
       "      <td>79.0</td>\n",
       "      <td>59.0</td>\n",
       "      <td>0.0</td>\n",
       "      <td>0.0</td>\n",
       "      <td>2.08</td>\n",
       "    </tr>\n",
       "  </tbody>\n",
       "</table>\n",
       "<p>718 rows × 36 columns</p>\n",
       "</div>"
      ],
      "text/plain": [
       "     bmd_label  gender  保肝药   日剂量  age  MTX_tdm_12h  MTX_tdm_24h  MTX_tdm_48h  \\\n",
       "0            1       1    0  16.0   47          NaN         1.00         1.00   \n",
       "1            1       0    1  12.0   12          NaN       169.44        49.60   \n",
       "2            1       1    0  17.0   19          NaN         4.23         0.10   \n",
       "3            1       0    0  16.0   55          NaN         4.73         0.10   \n",
       "4            1       0    1  14.0   13        47.74         5.22         0.10   \n",
       "..         ...     ...  ...   ...  ...          ...          ...          ...   \n",
       "713          0       1    1  15.0   16        77.50        15.60         0.10   \n",
       "714          0       1    1  19.0   29        54.50        14.25         2.00   \n",
       "715          0       1    1  19.0   17        59.00        11.80         0.10   \n",
       "716          0       1    1  19.0   26       134.90        34.20        10.70   \n",
       "717          0       1    1  16.0   15          NaN        13.60         0.88   \n",
       "\n",
       "     粒细胞_before  血小板_before  ...     红细胞  红细胞分布宽度  肌酐(干式)  血清氯(干式)  血清钾(干式)  \\\n",
       "0           NaN       218.0  ...    0.00     14.0    52.0    101.0      3.9   \n",
       "1           NaN       183.0  ...  365.50     11.1   173.0    100.0      3.9   \n",
       "2           NaN       327.0  ...    1.00     15.4    56.0    102.0      3.6   \n",
       "3           NaN       400.0  ...    0.00     14.0    41.0     99.0      3.7   \n",
       "4           NaN         NaN  ...    2.00     14.2    35.0    105.0      3.7   \n",
       "..          ...         ...  ...     ...      ...     ...      ...      ...   \n",
       "713        0.24       263.0  ...    0.00     13.0    43.0    104.0      4.1   \n",
       "714        0.03       237.0  ...    4.14     14.0    43.0    101.0      4.1   \n",
       "715        1.14       141.0  ...    3.85     13.7    59.0    100.0      3.7   \n",
       "716         NaN       333.0  ...    4.72     17.0    72.0     98.0      3.7   \n",
       "717        0.03       208.0  ...    5.00     12.0    41.0    100.0      4.4   \n",
       "\n",
       "     谷丙转氨酶(干式)  谷草转氨酶(干式)  非鳞状上皮细胞  鳞状上皮细胞  钙(干式)  \n",
       "0         69.0       32.0      1.0     0.0    NaN  \n",
       "1       1874.0     1520.0      1.0    12.0   1.74  \n",
       "2        249.0       95.0      0.0     1.0    NaN  \n",
       "3         73.0       44.0      0.0     1.0    NaN  \n",
       "4        904.0      663.0      0.0     2.0   2.33  \n",
       "..         ...        ...      ...     ...    ...  \n",
       "713      315.0      187.0      0.0     2.0   2.19  \n",
       "714      135.0      101.0      0.0     0.0   2.28  \n",
       "715      154.0       96.0      0.0     0.0   2.16  \n",
       "716      144.0      119.0      0.0     1.0   2.26  \n",
       "717       79.0       59.0      0.0     0.0   2.08  \n",
       "\n",
       "[718 rows x 36 columns]"
      ]
     },
     "execution_count": 31,
     "metadata": {},
     "output_type": "execute_result"
    }
   ],
   "source": [
    "df_model_relate"
   ]
  },
  {
   "cell_type": "code",
   "execution_count": 33,
   "metadata": {},
   "outputs": [
    {
     "ename": "NameError",
     "evalue": "name 'train_test_split' is not defined",
     "output_type": "error",
     "traceback": [
      "\u001b[1;31m---------------------------------------------------------------------------\u001b[0m",
      "\u001b[1;31mNameError\u001b[0m                                 Traceback (most recent call last)",
      "\u001b[1;32m<ipython-input-33-a145aad8f906>\u001b[0m in \u001b[0;36m<module>\u001b[1;34m\u001b[0m\n\u001b[0;32m      2\u001b[0m \u001b[0mx\u001b[0m \u001b[1;33m=\u001b[0m \u001b[0mdf_model_relate\u001b[0m\u001b[1;33m.\u001b[0m\u001b[0mdrop\u001b[0m\u001b[1;33m(\u001b[0m\u001b[1;33m[\u001b[0m\u001b[1;34m'bmd_label'\u001b[0m\u001b[1;33m]\u001b[0m\u001b[1;33m,\u001b[0m\u001b[0maxis\u001b[0m\u001b[1;33m=\u001b[0m\u001b[1;36m1\u001b[0m\u001b[1;33m)\u001b[0m\u001b[1;33m\u001b[0m\u001b[1;33m\u001b[0m\u001b[0m\n\u001b[0;32m      3\u001b[0m \u001b[0my\u001b[0m \u001b[1;33m=\u001b[0m \u001b[0mdf_model_relate\u001b[0m\u001b[1;33m[\u001b[0m\u001b[1;34m'bmd_label'\u001b[0m\u001b[1;33m]\u001b[0m\u001b[1;33m\u001b[0m\u001b[1;33m\u001b[0m\u001b[0m\n\u001b[1;32m----> 4\u001b[1;33m \u001b[0mtran_x\u001b[0m\u001b[1;33m,\u001b[0m \u001b[0mtest_x\u001b[0m\u001b[1;33m,\u001b[0m \u001b[0mtran_y\u001b[0m\u001b[1;33m,\u001b[0m \u001b[0mtest_y\u001b[0m \u001b[1;33m=\u001b[0m \u001b[0mtrain_test_split\u001b[0m\u001b[1;33m(\u001b[0m\u001b[0mx\u001b[0m\u001b[1;33m,\u001b[0m \u001b[0my\u001b[0m\u001b[1;33m,\u001b[0m \u001b[0mtest_size\u001b[0m\u001b[1;33m=\u001b[0m\u001b[1;36m0.2\u001b[0m\u001b[1;33m,\u001b[0m \u001b[0mrandom_state\u001b[0m\u001b[1;33m=\u001b[0m\u001b[1;36m5\u001b[0m\u001b[1;33m)\u001b[0m\u001b[1;33m\u001b[0m\u001b[1;33m\u001b[0m\u001b[0m\n\u001b[0m",
      "\u001b[1;31mNameError\u001b[0m: name 'train_test_split' is not defined"
     ]
    }
   ],
   "source": [
    "# 划分训练集和测试集，比例为8:2\n",
    "x = df_model_relate.drop(['bmd_label'],axis=1)\n",
    "y = df_model_relate['bmd_label']\n",
    "tran_x, test_x, tran_y, test_y = train_test_split(x, y, test_size=0.2, random_state=5)"
   ]
  },
  {
   "cell_type": "code",
   "execution_count": null,
   "metadata": {},
   "outputs": [],
   "source": [
    "# 重要性\n",
    "import catboost,xgboost\n",
    "model_boost=xgboost.XGBClassifier(max_depth=5,\n",
    "                                learning_rate=0.01,\n",
    "                                n_estimators=500,\n",
    "                                min_child_weight=0.5,\n",
    "                                eta=0.1,\n",
    "                                gamma=0.5,\n",
    "                                reg_lambda=10,\n",
    "                                subsample=0.5,\n",
    "                                colsample_bytree=0.8,\n",
    "                                nthread=4,\n",
    "                                scale_pos_weight=1)\n",
    "model_boost.fit(tran_x,tran_y)\n",
    "importance = model_boost.feature_importances_\n",
    "print(tran_x.columns)\n",
    "print(importance)"
   ]
  },
  {
   "cell_type": "code",
   "execution_count": null,
   "metadata": {},
   "outputs": [],
   "source": [
    "df_importance= pd.DataFrame(data={'特征':tran_x.columns,'重要性评分':importance})\n",
    "df_importance['重要性评分']=df_importance['重要性评分'].apply(lambda x: round(x,3))\n",
    "df_importance=df_importance.sort_values(['重要性评分'],ascending=False)\n",
    "df_importance=df_importance.reset_index(drop=True)"
   ]
  },
  {
   "cell_type": "code",
   "execution_count": null,
   "metadata": {},
   "outputs": [],
   "source": [
    "writer = pd.ExcelWriter(project_path + '/data/result/feature_engineering/df_3_模型重要性评分.xlsx')\n",
    "df_importance.to_excel(writer)\n",
    "writer.save()"
   ]
  },
  {
   "cell_type": "code",
   "execution_count": null,
   "metadata": {},
   "outputs": [],
   "source": [
    "# 筛选重要特征组建建模数据"
   ]
  },
  {
   "cell_type": "code",
   "execution_count": null,
   "metadata": {},
   "outputs": [],
   "source": [
    "df_importance_select=df_importance[df_importance['重要性评分']>0]\n",
    "select_list = list(df_importance_select['特征'])\n",
    "select_list.insert(0,'bmd_label')"
   ]
  },
  {
   "cell_type": "code",
   "execution_count": null,
   "metadata": {},
   "outputs": [],
   "source": [
    "df_model_importance = df_model_relate[select_list]"
   ]
  },
  {
   "cell_type": "code",
   "execution_count": null,
   "metadata": {},
   "outputs": [],
   "source": [
    "df_model_importance"
   ]
  },
  {
   "cell_type": "code",
   "execution_count": null,
   "metadata": {},
   "outputs": [],
   "source": [
    "# 保存重要性评分筛选后的建模数据\n",
    "writer = pd.ExcelWriter(project_path + '/data/result/df_model_data.xlsx')\n",
    "df_model_importance.to_excel(writer)\n",
    "writer.save()"
   ]
  },
  {
   "cell_type": "markdown",
   "metadata": {},
   "source": [
    "# 逐步向前"
   ]
  },
  {
   "cell_type": "code",
   "execution_count": null,
   "metadata": {},
   "outputs": [],
   "source": [
    "import itertools\n",
    "\n",
    "import numpy as np\n",
    "import pandas as pd\n",
    "\n",
    "import os\n",
    "project_path=os.getcwd()\n",
    "\n",
    "import statsmodels.api as sm\n",
    "from sklearn.linear_model import Lasso\n",
    "from sklearn.model_selection import train_test_split\n",
    "from sklearn.metrics import r2_score\n",
    "from sklearn.metrics import mean_squared_error,mean_absolute_error  # 均方误差\n",
    "import warnings\n",
    "warnings.filterwarnings(\"ignore\")\n",
    "import catboost,xgboost"
   ]
  },
  {
   "cell_type": "code",
   "execution_count": null,
   "metadata": {},
   "outputs": [],
   "source": [
    "# 判断文件路径是否存在，如果不存在则创建该路径\n",
    "def mkdir(path):\n",
    "    folder = os.path.exists(path)\n",
    "    if not folder:  # 判断是否存在文件夹如果不存在则创建为文件夹\n",
    "        os.makedirs(path)  # makedirs 创建文件时如果路径不存在会创建这个路径"
   ]
  },
  {
   "cell_type": "code",
   "execution_count": null,
   "metadata": {
    "scrolled": true
   },
   "outputs": [],
   "source": [
    "# 划分数据集\n",
    "#     discrete_list=['gender','糖皮质激素','质子泵','钙离子阻抗剂','其他免疫抑制剂','克拉霉素或阿奇霉素']\n",
    "#     continuous_list = [x for x in df_model.columns if x not in discrete_list]\n",
    "# continuous_list.remove('TDM检测结果')\n",
    "# 划分训练集和测试集，比例为8:2\n",
    "x = df_model.drop(['bmd_label'],axis=1)\n",
    "y = df_model['bmd_label']\n",
    "#     # 连续变量归一化\n",
    "#     for col in continuous_list:\n",
    "#         df_model[col] = df_model[col].apply(lambda x: np.log(x) if x > 0 else np.nan if x != x else 0)\n",
    "tran_x, test_x, tran_y, test_y = train_test_split(x, y, test_size=0.2, random_state=5)"
   ]
  },
  {
   "cell_type": "code",
   "execution_count": null,
   "metadata": {},
   "outputs": [],
   "source": [
    "tran_x"
   ]
  },
  {
   "cell_type": "code",
   "execution_count": null,
   "metadata": {},
   "outputs": [],
   "source": [
    "tran_y"
   ]
  },
  {
   "cell_type": "code",
   "execution_count": null,
   "metadata": {},
   "outputs": [],
   "source": [
    "# 逐步向前算法\n",
    "from sklearn.preprocessing import StandardScaler\n",
    "from mlxtend.feature_selection import SequentialFeatureSelector as SFS\n",
    "from mlxtend.plotting import plot_sequential_feature_selection as plot_sfs\n",
    "import xgboost as xgb\n",
    "import matplotlib.pyplot as plt"
   ]
  },
  {
   "cell_type": "code",
   "execution_count": null,
   "metadata": {},
   "outputs": [],
   "source": [
    "# k_features,Number of features to select,where k_features < the full feature set.\n",
    "# 基于当前所有变量中做逐步向前，从k=1一直迭代到k个特征\n",
    "\n",
    "sfs = SFS(xgb.XGBClassifier(max_depth=5,\n",
    "                        learning_rate=0.1,\n",
    "                        n_estimators=500,\n",
    "                        min_child_weight=0.5,\n",
    "                        eta=0.1,\n",
    "                        gamma=0.5,\n",
    "                        reg_lambda=10,\n",
    "                        subsample=0.5,\n",
    "                        colsample_bytree=0.8,\n",
    "                        nthread=4,\n",
    "                        scale_pos_weight=1),\n",
    "# sfs = SFS(catboost.CatBoostRegressor(n_estimators=500,learning_rate=0.01),\n",
    "          k_features=x.shape[1],\n",
    "          forward=True,\n",
    "          floating=False,\n",
    "          verbose=2,\n",
    "          scoring='precision',\n",
    "          cv=3)  # cv表示交叉验证\n",
    "sfs = sfs.fit(tran_x, tran_y)\n",
    "# 逐步向前筛选结果，包括特征个数，最优特征组合及其r2\n",
    "sfs_result = sfs.subsets_\n",
    "print(sfs_result)"
   ]
  },
  {
   "cell_type": "code",
   "execution_count": null,
   "metadata": {},
   "outputs": [],
   "source": [
    "df_sfs = pd.DataFrame(sfs_result)\n",
    "# DataFrame转置\n",
    "df_sfs_T=pd.DataFrame(df_sfs.values.T,index=df_sfs.columns,columns=df_sfs.index)\n",
    "df_sfs_T=df_sfs_T.reset_index(drop=True)\n",
    "# 保存逐步向前筛选结果\n",
    "\n",
    "r2_list=list(df_sfs_T['avg_score'])\n",
    "feature_list=list(df_sfs_T['feature_names'])\n",
    "\n",
    "df_feature_test=pd.DataFrame({'特征':feature_list,'r2':r2_list})\n",
    "df_feature_test=df_feature_test.reset_index(drop=True)\n",
    "# 保存模型测试和测试结果到本地文件\n",
    "writer = pd.ExcelWriter(project_path + '/data/result/df_2_逐步向前特征测试结果.xlsx')\n",
    "df_feature_test.to_excel(writer)\n",
    "writer.save()"
   ]
  },
  {
   "cell_type": "code",
   "execution_count": null,
   "metadata": {},
   "outputs": [],
   "source": [
    "# 根据逐步向前测试结果筛选最优特征组合\n",
    "r2_max=max(r2_list)\n",
    "print(r2_max)\n",
    "r2_max_index=r2_list.index(r2_max)\n",
    "df_feature_select=df_feature_test.iloc[r2_max_index]\n",
    "writer = pd.ExcelWriter(project_path + '/data/result/df_2_逐步向前特征选择结果.xlsx')\n",
    "df_feature_select.to_excel(writer)\n",
    "writer.save()"
   ]
  },
  {
   "cell_type": "code",
   "execution_count": null,
   "metadata": {},
   "outputs": [],
   "source": [
    "feature_extract_list = list(feature_list[r2_max_index])\n",
    "feature_extract_list.append('bmd_label')\n",
    "df_extract = df_model[feature_extract_list]\n",
    "writer = pd.ExcelWriter(project_path + '/data/result/df_2_逐步向前筛选后的建模数据.xlsx')\n",
    "df_extract.to_excel(writer)\n",
    "writer.save()"
   ]
  },
  {
   "cell_type": "code",
   "execution_count": null,
   "metadata": {},
   "outputs": [],
   "source": [
    "# 逐步向前R2折线图\n",
    "metrics=sfs.get_metric_dict()\n",
    "# 截取部分字典数据，取30个特征生成逐步向前R2折线图\n",
    "metrics_part={key:value for key,value in metrics.items() if key <30}\n",
    "fig = plot_sfs(metrics_part, kind='std_err',color='r')\n",
    "plt.title('Sequential Forward Selection (Precision)')\n",
    "plt.grid()\n",
    "# plt.show()\n",
    "# 判断图片保存路径是否存在，否则创建\n",
    "jpg_path = project_path + \"/jpg\"\n",
    "mkdir(jpg_path)\n",
    "plt.savefig(jpg_path + \"/逐步向前特征选择R2折线图.jpg\", dpi=300)\n",
    "plt.clf()  # 删除前面所画的图"
   ]
  }
 ],
 "metadata": {
  "kernelspec": {
   "display_name": "Python 3",
   "language": "python",
   "name": "python3"
  },
  "language_info": {
   "codemirror_mode": {
    "name": "ipython",
    "version": 3
   },
   "file_extension": ".py",
   "mimetype": "text/x-python",
   "name": "python",
   "nbconvert_exporter": "python",
   "pygments_lexer": "ipython3",
   "version": "3.6.8"
  },
  "toc": {
   "base_numbering": 1,
   "nav_menu": {},
   "number_sections": true,
   "sideBar": true,
   "skip_h1_title": false,
   "title_cell": "Table of Contents",
   "title_sidebar": "Contents",
   "toc_cell": false,
   "toc_position": {},
   "toc_section_display": true,
   "toc_window_display": true
  },
  "varInspector": {
   "cols": {
    "lenName": 16,
    "lenType": 16,
    "lenVar": 40
   },
   "kernels_config": {
    "python": {
     "delete_cmd_postfix": "",
     "delete_cmd_prefix": "del ",
     "library": "var_list.py",
     "varRefreshCmd": "print(var_dic_list())"
    },
    "r": {
     "delete_cmd_postfix": ") ",
     "delete_cmd_prefix": "rm(",
     "library": "var_list.r",
     "varRefreshCmd": "cat(var_dic_list()) "
    }
   },
   "types_to_exclude": [
    "module",
    "function",
    "builtin_function_or_method",
    "instance",
    "_Feature"
   ],
   "window_display": false
  }
 },
 "nbformat": 4,
 "nbformat_minor": 2
}
