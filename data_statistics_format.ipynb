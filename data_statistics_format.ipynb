{
 "cells": [
  {
   "cell_type": "code",
   "execution_count": 28,
   "metadata": {},
   "outputs": [],
   "source": [
    "# 规范化变量统计"
   ]
  },
  {
   "cell_type": "code",
   "execution_count": 1,
   "metadata": {},
   "outputs": [],
   "source": [
    "# 导入程序包\n",
    "import pandas as pd\n",
    "import numpy as np\n",
    "\n",
    "import re\n",
    "import sys\n",
    "import os\n",
    "project_path = os.getcwd()"
   ]
  },
  {
   "cell_type": "markdown",
   "metadata": {},
   "source": [
    "# 变量统计"
   ]
  },
  {
   "cell_type": "code",
   "execution_count": 3,
   "metadata": {},
   "outputs": [],
   "source": [
    "df_model=pd.read_excel(project_path+'/data/processed_data/df_11.4_人工删除无意义列.xlsx')\n",
    "if 'Unnamed: 0' in df_model.columns:\n",
    "    df_model = df_model.drop(['Unnamed: 0'], axis=1)"
   ]
  },
  {
   "cell_type": "code",
   "execution_count": 5,
   "metadata": {},
   "outputs": [],
   "source": [
    "# 删除id、时间变量\n",
    "df_model=df_model.drop(['patient_id','case_no','drug_name','start_datetime','end_datetime','bmd_time'],axis=1)"
   ]
  },
  {
   "cell_type": "code",
   "execution_count": 6,
   "metadata": {
    "collapsed": true
   },
   "outputs": [
    {
     "data": {
      "text/plain": [
       "Index(['日剂量', 'gender', 'age', '血红蛋白_before', '血红蛋白_3d', '白细胞_before',\n",
       "       '白细胞_3d', '粒细胞_before', '血小板_before', '血小板_3d', '血红蛋白_before_B',\n",
       "       '血红蛋白_3d_B', '白细胞_before_B', '白细胞_3d_B', '粒细胞_before_B', '血小板_before_B',\n",
       "       '血小板_3d_B', 'bmd_before', 'bmd_3d', 'bmd_7d', 'bmd_14d', 'bmd_label',\n",
       "       'MTX_tdm_24h', 'MTX_tdm_48h', 'MTX_tdm_72h', '吸烟史', '饮酒史', '高血压', '糖尿病',\n",
       "       '肝炎', '多柔比星', '异环磷酰胺', '顺铂', '依托泊苷', '多柔比星脂质体', '头孢类', '促红素', '吡柔吡星',\n",
       "       '抗凝血', '谷胱甘肽', '异甘草酸镁', '地塞米松磷酸钠', '托烷司琼', '甘草酸苷', '长春新碱', '多烯磷脂酰',\n",
       "       '甲氨蝶呤+多柔比星', '甲氨蝶呤+多柔比星脂质体', '甲氨蝶呤+顺铂', '甲氨蝶呤+异环磷酰胺', '甲氨蝶呤+依托泊苷',\n",
       "       '甲氨蝶呤+多柔比星+顺铂', '甲氨蝶呤+多柔比星+异环磷酰胺', '甲氨蝶呤+多柔比星+依托泊苷', '甲氨蝶呤+多柔比星脂质体+顺铂',\n",
       "       '甲氨蝶呤+多柔比星脂质体+异环磷酰胺', '甲氨蝶呤+多柔比星脂质体+依托泊苷', '甲氨蝶呤+顺铂+异环磷酰胺',\n",
       "       '甲氨蝶呤+顺铂+依托泊苷', '甲氨蝶呤+异环磷酰胺+依托泊苷', '甲氨蝶呤+多柔比星+顺铂+异环磷酰胺',\n",
       "       '甲氨蝶呤+多柔比星+顺铂+依托泊苷', '甲氨蝶呤+多柔比星+异环磷酰胺+依托泊苷', '甲氨蝶呤+多柔比星脂质体+顺铂+异环磷酰胺',\n",
       "       '甲氨蝶呤+多柔比星脂质体+顺铂+依托泊苷', '甲氨蝶呤+多柔比星脂质体+异环磷酰胺+依托泊苷', '甲氨蝶呤+顺铂+异环磷酰胺+依托泊苷',\n",
       "       '甲氨蝶呤+多柔比星+顺铂+异环磷酰胺+依托泊苷', '甲氨蝶呤+多柔比星脂质体+顺铂+异环磷酰胺+依托泊苷', 'group',\n",
       "       'RBC平均容量', 'RBC平均血红量', 'RBC血红浓度', 'γ-谷氨酰酶(干式)', '中性细胞百分比', '中性细胞绝对值',\n",
       "       '乳酸脱氢酶(干式)', '单核细胞百分比', '单核细胞绝对值', '嗜碱性细胞百分比', '嗜碱性细胞绝对值', '嗜酸性细胞百分比',\n",
       "       '嗜酸性细胞绝对值', '总胆红素(干式)', '总蛋白(干式)', '淋巴细胞百分比', '淋巴细胞绝对值', '白蛋白(干式)',\n",
       "       '碱性磷酸酶(干式)', '红细胞', '红细胞分布宽度', '肌酐(干式)', '谷丙转氨酶(干式)', '谷草转氨酶(干式)'],\n",
       "      dtype='object')"
      ]
     },
     "execution_count": 6,
     "metadata": {},
     "output_type": "execute_result"
    }
   ],
   "source": [
    "df_model.columns"
   ]
  },
  {
   "cell_type": "code",
   "execution_count": 102,
   "metadata": {},
   "outputs": [],
   "source": [
    "# 选取变量\n",
    "discrete_col = ['gender','血红蛋白_before_B',\n",
    "       '血红蛋白_3d_B', '白细胞_before_B', '白细胞_3d_B', '粒细胞_before_B', '血小板_before_B',\n",
    "       '血小板_3d_B', 'bmd_before', 'bmd_3d', 'bmd_7d', 'bmd_14d', 'bmd_label','吸烟史', '饮酒史', '高血压', '糖尿病',\n",
    "       '肝炎', '多柔比星', '异环磷酰胺', '顺铂', '依托泊苷', '多柔比星脂质体', '头孢类', '促红素', '吡柔吡星',\n",
    "       '抗凝血', '谷胱甘肽', '异甘草酸镁', '地塞米松磷酸钠', '托烷司琼', '甘草酸苷', '长春新碱', '多烯磷脂酰',\n",
    "       '甲氨蝶呤+多柔比星', '甲氨蝶呤+多柔比星脂质体', '甲氨蝶呤+顺铂', '甲氨蝶呤+异环磷酰胺', '甲氨蝶呤+依托泊苷',\n",
    "       '甲氨蝶呤+多柔比星+顺铂', '甲氨蝶呤+多柔比星+异环磷酰胺', '甲氨蝶呤+多柔比星+依托泊苷', '甲氨蝶呤+多柔比星脂质体+顺铂',\n",
    "       '甲氨蝶呤+多柔比星脂质体+异环磷酰胺', '甲氨蝶呤+多柔比星脂质体+依托泊苷', '甲氨蝶呤+顺铂+异环磷酰胺',\n",
    "       '甲氨蝶呤+顺铂+依托泊苷', '甲氨蝶呤+异环磷酰胺+依托泊苷', '甲氨蝶呤+多柔比星+顺铂+异环磷酰胺',\n",
    "       '甲氨蝶呤+多柔比星+顺铂+依托泊苷', '甲氨蝶呤+多柔比星+异环磷酰胺+依托泊苷', '甲氨蝶呤+多柔比星脂质体+顺铂+异环磷酰胺',\n",
    "       '甲氨蝶呤+多柔比星脂质体+顺铂+依托泊苷', '甲氨蝶呤+多柔比星脂质体+异环磷酰胺+依托泊苷', '甲氨蝶呤+顺铂+异环磷酰胺+依托泊苷',\n",
    "       '甲氨蝶呤+多柔比星+顺铂+异环磷酰胺+依托泊苷', '甲氨蝶呤+多柔比星脂质体+顺铂+异环磷酰胺+依托泊苷', 'group']\n",
    "continuous_col=[x for x in df_model.columns if x not in discrete_col]"
   ]
  },
  {
   "cell_type": "markdown",
   "metadata": {},
   "source": [
    "## 分类变量统计"
   ]
  },
  {
   "cell_type": "code",
   "execution_count": 151,
   "metadata": {
    "scrolled": true
   },
   "outputs": [
    {
     "name": "stdout",
     "output_type": "stream",
     "text": [
      "gender\n",
      "血红蛋白_before_B\n",
      "血红蛋白_3d_B\n",
      "白细胞_before_B\n",
      "白细胞_3d_B\n",
      "粒细胞_before_B\n",
      "血小板_before_B\n",
      "血小板_3d_B\n",
      "bmd_before\n",
      "bmd_3d\n",
      "bmd_7d\n",
      "bmd_14d\n",
      "bmd_label\n",
      "吸烟史\n",
      "饮酒史\n",
      "高血压\n",
      "糖尿病\n",
      "肝炎\n",
      "多柔比星\n",
      "异环磷酰胺\n",
      "顺铂\n",
      "依托泊苷\n",
      "多柔比星脂质体\n",
      "头孢类\n",
      "促红素\n",
      "吡柔吡星\n",
      "抗凝血\n",
      "谷胱甘肽\n",
      "异甘草酸镁\n",
      "地塞米松磷酸钠\n",
      "托烷司琼\n",
      "甘草酸苷\n",
      "长春新碱\n",
      "多烯磷脂酰\n",
      "甲氨蝶呤+多柔比星\n",
      "甲氨蝶呤+多柔比星脂质体\n",
      "甲氨蝶呤+顺铂\n",
      "甲氨蝶呤+异环磷酰胺\n",
      "甲氨蝶呤+依托泊苷\n",
      "甲氨蝶呤+多柔比星+顺铂\n",
      "甲氨蝶呤+多柔比星+异环磷酰胺\n",
      "甲氨蝶呤+多柔比星+依托泊苷\n",
      "甲氨蝶呤+多柔比星脂质体+顺铂\n",
      "甲氨蝶呤+多柔比星脂质体+异环磷酰胺\n",
      "甲氨蝶呤+多柔比星脂质体+依托泊苷\n",
      "甲氨蝶呤+顺铂+异环磷酰胺\n",
      "甲氨蝶呤+顺铂+依托泊苷\n",
      "甲氨蝶呤+异环磷酰胺+依托泊苷\n",
      "甲氨蝶呤+多柔比星+顺铂+异环磷酰胺\n",
      "甲氨蝶呤+多柔比星+顺铂+依托泊苷\n",
      "甲氨蝶呤+多柔比星+异环磷酰胺+依托泊苷\n",
      "甲氨蝶呤+多柔比星脂质体+顺铂+异环磷酰胺\n",
      "甲氨蝶呤+多柔比星脂质体+顺铂+依托泊苷\n",
      "甲氨蝶呤+多柔比星脂质体+异环磷酰胺+依托泊苷\n",
      "甲氨蝶呤+顺铂+异环磷酰胺+依托泊苷\n",
      "甲氨蝶呤+多柔比星+顺铂+异环磷酰胺+依托泊苷\n",
      "甲氨蝶呤+多柔比星脂质体+顺铂+异环磷酰胺+依托泊苷\n",
      "group\n"
     ]
    }
   ],
   "source": [
    "# 求分类变量比例\n",
    "df_discrete_stat=pd.DataFrame(columns=['变量名称','所有事件(%d)' % df_model.shape[0],'缺失率(%)'])\n",
    "for i in discrete_col:\n",
    "    print(i)\n",
    "    # 缺失率\n",
    "    miss_rate=df_model[i].isnull().sum()/df_model.shape[0]\n",
    "    miss_rate=\"%.2f%%\" % (miss_rate * 100)      # 百分数输出\n",
    "    df_discrete_stat.loc[df_discrete_stat.shape[0],['变量名称','缺失率(%)']]=[i+'，n(%)',miss_rate]\n",
    "    \n",
    "    # 分类变量单独统计\n",
    "    name_list=[]\n",
    "    num_perc_list=[]\n",
    "    df_model_stat=df_model[df_model[i].notnull()].sort_values([i],ascending=True)\n",
    "    for j in df_model_stat[i].unique():\n",
    "        name_list.append(j)\n",
    "        \n",
    "        num=df_model_stat[df_model_stat[i]==j].shape[0]\n",
    "        percent=num/df_model.shape[0]\n",
    "        percent=\"%.2f%%\" % (percent * 100)\n",
    "        num_percent=str(num)+'('+percent+')'\n",
    "        num_perc_list.append(num_percent)\n",
    "    df_temp = pd.DataFrame(data={'变量名称':name_list,\n",
    "                                 '所有事件(%d)' % df_model.shape[0]:num_perc_list})\n",
    "\n",
    "    df_discrete_stat=pd.concat([df_discrete_stat,df_temp],axis=0)\n",
    "    df_discrete_stat=df_discrete_stat.reset_index(drop=True)"
   ]
  },
  {
   "cell_type": "code",
   "execution_count": 148,
   "metadata": {},
   "outputs": [],
   "source": [
    "# 保存分类变量统计\n",
    "df_discrete_stat.to_excel(project_path+'/data/stat/df_2.1_分类变量统计.xlsx')"
   ]
  },
  {
   "cell_type": "markdown",
   "metadata": {},
   "source": [
    "## 连续变量统计"
   ]
  },
  {
   "cell_type": "code",
   "execution_count": 169,
   "metadata": {},
   "outputs": [],
   "source": [
    "# 统计全变量体系各变量的平均数、上下四分位数、缺失率\n",
    "feature_quarter_list=[]\n",
    "mean_quarter_list=[]\n",
    "feature_std_list=[]\n",
    "mean_std_list=[]\n",
    "miss_list=[]\n",
    "for i in continuous_col:\n",
    "    # 计算上下四分位、均值、标准差\n",
    "    try:\n",
    "        data = df_model[i].astype('float')\n",
    "        stat_result = pd.DataFrame(data.describe())\n",
    "        mean_value=stat_result.loc['mean',i]\n",
    "        up_quarter=stat_result.loc['25%',i]\n",
    "        down_quarter=stat_result.loc['75%',i]\n",
    "        std_value=stat_result.loc['std',i]\n",
    "    except:\n",
    "        mean_value=np.nan\n",
    "        up_quarter=np.nan\n",
    "        down_quarter=np.nan\n",
    "    # 计算缺失率\n",
    "    miss_rate=df_model[i].isnull().sum()/df_model.shape[0]\n",
    "    miss_rate=\"%.2f%%\" % (miss_rate * 100)      # 百分数输出\n",
    "    miss_list.append(miss_rate)\n",
    "    # mean(quarter)\n",
    "    feature_quarter_list.append(i+'，mean（IQR）')\n",
    "    mean_quarter_list.append('%.2f(%.2f-%.2f)' % (mean_value,up_quarter,down_quarter))\n",
    "    # mean(std)\n",
    "    feature_std_list.append(i+'，mean（std）')\n",
    "    mean_std_list.append('%.2f(%.2f)' % (mean_value,std_value))"
   ]
  },
  {
   "cell_type": "code",
   "execution_count": 171,
   "metadata": {},
   "outputs": [],
   "source": [
    "df_continuous_quarter=pd.DataFrame(data={'特征':feature_quarter_list,\n",
    "                        'mean_quarter_list':mean_quarter_list,\n",
    "                        'miss_list':miss_list})\n",
    "df_continuous_std=pd.DataFrame(data={'特征':feature_std_list,\n",
    "                        'mean_std_list':mean_std_list,\n",
    "                        'miss_list':miss_list})"
   ]
  },
  {
   "cell_type": "code",
   "execution_count": 172,
   "metadata": {},
   "outputs": [],
   "source": [
    "df_continous_stat=pd.concat([df_continuous_quarter,df_continuous_std],axis=1)\n",
    "# 保存连续变量统计\n",
    "df_continous_stat.to_excel(project_path+'/data/stat/df_2.2_连续变量统计.xlsx')"
   ]
  }
 ],
 "metadata": {
  "kernelspec": {
   "display_name": "Python 3",
   "language": "python",
   "name": "python3"
  },
  "language_info": {
   "codemirror_mode": {
    "name": "ipython",
    "version": 3
   },
   "file_extension": ".py",
   "mimetype": "text/x-python",
   "name": "python",
   "nbconvert_exporter": "python",
   "pygments_lexer": "ipython3",
   "version": "3.6.8"
  },
  "toc": {
   "base_numbering": 1,
   "nav_menu": {},
   "number_sections": true,
   "sideBar": true,
   "skip_h1_title": false,
   "title_cell": "Table of Contents",
   "title_sidebar": "Contents",
   "toc_cell": false,
   "toc_position": {
    "height": "calc(100% - 180px)",
    "left": "10px",
    "top": "150px",
    "width": "460.8px"
   },
   "toc_section_display": true,
   "toc_window_display": true
  },
  "varInspector": {
   "cols": {
    "lenName": 16,
    "lenType": 16,
    "lenVar": 40
   },
   "kernels_config": {
    "python": {
     "delete_cmd_postfix": "",
     "delete_cmd_prefix": "del ",
     "library": "var_list.py",
     "varRefreshCmd": "print(var_dic_list())"
    },
    "r": {
     "delete_cmd_postfix": ") ",
     "delete_cmd_prefix": "rm(",
     "library": "var_list.r",
     "varRefreshCmd": "cat(var_dic_list()) "
    }
   },
   "types_to_exclude": [
    "module",
    "function",
    "builtin_function_or_method",
    "instance",
    "_Feature"
   ],
   "window_display": false
  }
 },
 "nbformat": 4,
 "nbformat_minor": 2
}
