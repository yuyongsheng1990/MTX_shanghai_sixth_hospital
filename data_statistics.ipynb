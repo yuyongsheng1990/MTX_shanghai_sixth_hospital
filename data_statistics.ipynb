{
 "cells": [
  {
   "cell_type": "code",
   "execution_count": 3,
   "metadata": {},
   "outputs": [],
   "source": [
    "# _*_ coding: utf-8 _*_\n",
    "# @Time: 2021/11/26 11:27 \n",
    "# @Author: yuyongsheng\n",
    "# @Software: PyCharm\n",
    "# @Description: 上海六院甲氨蝶呤：5. 数据统计"
   ]
  },
  {
   "cell_type": "code",
   "execution_count": 3,
   "metadata": {},
   "outputs": [],
   "source": [
    "# 导入程序包\n",
    "import pymysql as MySQLDB\n",
    "import pandas as pd\n",
    "import numpy as np\n",
    "\n",
    "import re\n",
    "import sys\n",
    "import os\n",
    "project_path = os.getcwd()"
   ]
  },
  {
   "cell_type": "markdown",
   "metadata": {},
   "source": [
    "# 高低剂量组"
   ]
  },
  {
   "cell_type": "code",
   "execution_count": 201,
   "metadata": {},
   "outputs": [],
   "source": [
    "# 读入甲氨蝶呤高低剂量组\n",
    "df_MTX_group=pd.read_excel(project_path+'/data/processed_data/df_10_划分高低剂量组.xlsx')\n",
    "if 'Unnamed: 0' in df_MTX_group.columns:\n",
    "    df_MTX_group = df_MTX_group.drop(['Unnamed: 0'], axis=1)"
   ]
  },
  {
   "cell_type": "markdown",
   "metadata": {},
   "source": [
    "## PSM倾向性分析"
   ]
  },
  {
   "cell_type": "markdown",
   "metadata": {},
   "source": [
    "### 提取PSM数据"
   ]
  },
  {
   "cell_type": "code",
   "execution_count": 448,
   "metadata": {},
   "outputs": [],
   "source": [
    "# 提取控制变量\n",
    "control_v = ['case_no','gender','age','血红蛋白_3d','白细胞_3d','血小板_3d','吸烟史','饮酒史','高血压','糖尿病','肝炎','group']\n",
    "df_MTX_PSM = df_MTX_group[control_v]"
   ]
  },
  {
   "cell_type": "code",
   "execution_count": 449,
   "metadata": {},
   "outputs": [
    {
     "name": "stderr",
     "output_type": "stream",
     "text": [
      "D:\\Anaconda3\\lib\\site-packages\\pandas\\core\\frame.py:4308: SettingWithCopyWarning: \n",
      "A value is trying to be set on a copy of a slice from a DataFrame\n",
      "\n",
      "See the caveats in the documentation: https://pandas.pydata.org/pandas-docs/stable/user_guide/indexing.html#returning-a-view-versus-a-copy\n",
      "  errors=errors,\n"
     ]
    }
   ],
   "source": [
    "# 重命名\n",
    "df_MTX_PSM.rename(columns={ '血红蛋白_3d':'HGB_3d',\n",
    "                               '白细胞_3d':'WBC_3d',\n",
    "                               '血小板_3d':'PLT_3d',\n",
    "                               '吸烟史':'smoking',\n",
    "                               '饮酒史':'drinking',\n",
    "                               '高血压':'EH',\n",
    "                               '糖尿病':'DM',\n",
    "                               '肝炎':'HCV'},inplace=True)"
   ]
  },
  {
   "cell_type": "code",
   "execution_count": 450,
   "metadata": {},
   "outputs": [
    {
     "name": "stderr",
     "output_type": "stream",
     "text": [
      "D:\\Anaconda3\\lib\\site-packages\\ipykernel_launcher.py:2: SettingWithCopyWarning: \n",
      "A value is trying to be set on a copy of a slice from a DataFrame.\n",
      "Try using .loc[row_indexer,col_indexer] = value instead\n",
      "\n",
      "See the caveats in the documentation: https://pandas.pydata.org/pandas-docs/stable/user_guide/indexing.html#returning-a-view-versus-a-copy\n",
      "  \n",
      "D:\\Anaconda3\\lib\\site-packages\\ipykernel_launcher.py:3: SettingWithCopyWarning: \n",
      "A value is trying to be set on a copy of a slice from a DataFrame.\n",
      "Try using .loc[row_indexer,col_indexer] = value instead\n",
      "\n",
      "See the caveats in the documentation: https://pandas.pydata.org/pandas-docs/stable/user_guide/indexing.html#returning-a-view-versus-a-copy\n",
      "  This is separate from the ipykernel package so we can avoid doing imports until\n"
     ]
    }
   ],
   "source": [
    "# 替换性别，男1,0女\n",
    "df_MTX_PSM['gender'] = df_MTX_PSM['gender'].astype('str')\n",
    "df_MTX_PSM['gender'] = df_MTX_PSM['gender'].str.replace(' ','').apply(lambda x: 1 if x == '男' else 0)"
   ]
  },
  {
   "cell_type": "code",
   "execution_count": 451,
   "metadata": {},
   "outputs": [],
   "source": [
    "# 删除缺失数据\n",
    "df_MTX_PSM = df_MTX_PSM.dropna()"
   ]
  },
  {
   "cell_type": "code",
   "execution_count": 452,
   "metadata": {},
   "outputs": [
    {
     "data": {
      "text/plain": [
       "0    360\n",
       "1    341\n",
       "Name: group, dtype: int64"
      ]
     },
     "execution_count": 452,
     "metadata": {},
     "output_type": "execute_result"
    }
   ],
   "source": [
    "df_MTX_PSM.shape\n",
    "df_MTX_PSM.group.value_counts()"
   ]
  },
  {
   "cell_type": "code",
   "execution_count": 453,
   "metadata": {},
   "outputs": [
    {
     "data": {
      "text/html": [
       "<div>\n",
       "<style scoped>\n",
       "    .dataframe tbody tr th:only-of-type {\n",
       "        vertical-align: middle;\n",
       "    }\n",
       "\n",
       "    .dataframe tbody tr th {\n",
       "        vertical-align: top;\n",
       "    }\n",
       "\n",
       "    .dataframe thead th {\n",
       "        text-align: right;\n",
       "    }\n",
       "</style>\n",
       "<table border=\"1\" class=\"dataframe\">\n",
       "  <thead>\n",
       "    <tr style=\"text-align: right;\">\n",
       "      <th></th>\n",
       "      <th>case_no</th>\n",
       "      <th>gender</th>\n",
       "      <th>age</th>\n",
       "      <th>HGB_3d</th>\n",
       "      <th>WBC_3d</th>\n",
       "      <th>PLT_3d</th>\n",
       "      <th>smoking</th>\n",
       "      <th>drinking</th>\n",
       "      <th>EH</th>\n",
       "      <th>DM</th>\n",
       "      <th>HCV</th>\n",
       "      <th>group</th>\n",
       "    </tr>\n",
       "  </thead>\n",
       "  <tbody>\n",
       "    <tr>\n",
       "      <th>0</th>\n",
       "      <td>458317</td>\n",
       "      <td>1</td>\n",
       "      <td>47</td>\n",
       "      <td>0.0</td>\n",
       "      <td>1.0</td>\n",
       "      <td>0.0</td>\n",
       "      <td>0.0</td>\n",
       "      <td>0.0</td>\n",
       "      <td>0.0</td>\n",
       "      <td>0.0</td>\n",
       "      <td>0.0</td>\n",
       "      <td>1</td>\n",
       "    </tr>\n",
       "    <tr>\n",
       "      <th>1</th>\n",
       "      <td>498880</td>\n",
       "      <td>0</td>\n",
       "      <td>12</td>\n",
       "      <td>0.0</td>\n",
       "      <td>0.0</td>\n",
       "      <td>1.0</td>\n",
       "      <td>0.0</td>\n",
       "      <td>0.0</td>\n",
       "      <td>0.0</td>\n",
       "      <td>0.0</td>\n",
       "      <td>0.0</td>\n",
       "      <td>0</td>\n",
       "    </tr>\n",
       "    <tr>\n",
       "      <th>2</th>\n",
       "      <td>562959</td>\n",
       "      <td>1</td>\n",
       "      <td>19</td>\n",
       "      <td>0.0</td>\n",
       "      <td>1.0</td>\n",
       "      <td>0.0</td>\n",
       "      <td>0.0</td>\n",
       "      <td>0.0</td>\n",
       "      <td>0.0</td>\n",
       "      <td>0.0</td>\n",
       "      <td>0.0</td>\n",
       "      <td>1</td>\n",
       "    </tr>\n",
       "    <tr>\n",
       "      <th>3</th>\n",
       "      <td>569556</td>\n",
       "      <td>0</td>\n",
       "      <td>55</td>\n",
       "      <td>1.0</td>\n",
       "      <td>1.0</td>\n",
       "      <td>0.0</td>\n",
       "      <td>0.0</td>\n",
       "      <td>0.0</td>\n",
       "      <td>0.0</td>\n",
       "      <td>0.0</td>\n",
       "      <td>0.0</td>\n",
       "      <td>1</td>\n",
       "    </tr>\n",
       "    <tr>\n",
       "      <th>4</th>\n",
       "      <td>588681</td>\n",
       "      <td>0</td>\n",
       "      <td>13</td>\n",
       "      <td>1.0</td>\n",
       "      <td>0.0</td>\n",
       "      <td>0.0</td>\n",
       "      <td>0.0</td>\n",
       "      <td>0.0</td>\n",
       "      <td>0.0</td>\n",
       "      <td>0.0</td>\n",
       "      <td>0.0</td>\n",
       "      <td>0</td>\n",
       "    </tr>\n",
       "    <tr>\n",
       "      <th>...</th>\n",
       "      <td>...</td>\n",
       "      <td>...</td>\n",
       "      <td>...</td>\n",
       "      <td>...</td>\n",
       "      <td>...</td>\n",
       "      <td>...</td>\n",
       "      <td>...</td>\n",
       "      <td>...</td>\n",
       "      <td>...</td>\n",
       "      <td>...</td>\n",
       "      <td>...</td>\n",
       "      <td>...</td>\n",
       "    </tr>\n",
       "    <tr>\n",
       "      <th>713</th>\n",
       "      <td>1214110</td>\n",
       "      <td>1</td>\n",
       "      <td>16</td>\n",
       "      <td>0.0</td>\n",
       "      <td>0.0</td>\n",
       "      <td>0.0</td>\n",
       "      <td>0.0</td>\n",
       "      <td>0.0</td>\n",
       "      <td>0.0</td>\n",
       "      <td>0.0</td>\n",
       "      <td>0.0</td>\n",
       "      <td>0</td>\n",
       "    </tr>\n",
       "    <tr>\n",
       "      <th>714</th>\n",
       "      <td>1214934</td>\n",
       "      <td>1</td>\n",
       "      <td>29</td>\n",
       "      <td>0.0</td>\n",
       "      <td>0.0</td>\n",
       "      <td>0.0</td>\n",
       "      <td>0.0</td>\n",
       "      <td>0.0</td>\n",
       "      <td>0.0</td>\n",
       "      <td>0.0</td>\n",
       "      <td>0.0</td>\n",
       "      <td>1</td>\n",
       "    </tr>\n",
       "    <tr>\n",
       "      <th>715</th>\n",
       "      <td>1219193</td>\n",
       "      <td>1</td>\n",
       "      <td>17</td>\n",
       "      <td>0.0</td>\n",
       "      <td>0.0</td>\n",
       "      <td>0.0</td>\n",
       "      <td>0.0</td>\n",
       "      <td>0.0</td>\n",
       "      <td>0.0</td>\n",
       "      <td>0.0</td>\n",
       "      <td>0.0</td>\n",
       "      <td>1</td>\n",
       "    </tr>\n",
       "    <tr>\n",
       "      <th>716</th>\n",
       "      <td>1223760</td>\n",
       "      <td>1</td>\n",
       "      <td>26</td>\n",
       "      <td>0.0</td>\n",
       "      <td>0.0</td>\n",
       "      <td>0.0</td>\n",
       "      <td>1.0</td>\n",
       "      <td>1.0</td>\n",
       "      <td>0.0</td>\n",
       "      <td>0.0</td>\n",
       "      <td>0.0</td>\n",
       "      <td>1</td>\n",
       "    </tr>\n",
       "    <tr>\n",
       "      <th>717</th>\n",
       "      <td>1229838</td>\n",
       "      <td>1</td>\n",
       "      <td>15</td>\n",
       "      <td>0.0</td>\n",
       "      <td>0.0</td>\n",
       "      <td>0.0</td>\n",
       "      <td>0.0</td>\n",
       "      <td>0.0</td>\n",
       "      <td>0.0</td>\n",
       "      <td>0.0</td>\n",
       "      <td>0.0</td>\n",
       "      <td>1</td>\n",
       "    </tr>\n",
       "  </tbody>\n",
       "</table>\n",
       "<p>701 rows × 12 columns</p>\n",
       "</div>"
      ],
      "text/plain": [
       "     case_no  gender  age  HGB_3d  WBC_3d  PLT_3d  smoking  drinking   EH  \\\n",
       "0     458317       1   47     0.0     1.0     0.0      0.0       0.0  0.0   \n",
       "1     498880       0   12     0.0     0.0     1.0      0.0       0.0  0.0   \n",
       "2     562959       1   19     0.0     1.0     0.0      0.0       0.0  0.0   \n",
       "3     569556       0   55     1.0     1.0     0.0      0.0       0.0  0.0   \n",
       "4     588681       0   13     1.0     0.0     0.0      0.0       0.0  0.0   \n",
       "..       ...     ...  ...     ...     ...     ...      ...       ...  ...   \n",
       "713  1214110       1   16     0.0     0.0     0.0      0.0       0.0  0.0   \n",
       "714  1214934       1   29     0.0     0.0     0.0      0.0       0.0  0.0   \n",
       "715  1219193       1   17     0.0     0.0     0.0      0.0       0.0  0.0   \n",
       "716  1223760       1   26     0.0     0.0     0.0      1.0       1.0  0.0   \n",
       "717  1229838       1   15     0.0     0.0     0.0      0.0       0.0  0.0   \n",
       "\n",
       "      DM  HCV  group  \n",
       "0    0.0  0.0      1  \n",
       "1    0.0  0.0      0  \n",
       "2    0.0  0.0      1  \n",
       "3    0.0  0.0      1  \n",
       "4    0.0  0.0      0  \n",
       "..   ...  ...    ...  \n",
       "713  0.0  0.0      0  \n",
       "714  0.0  0.0      1  \n",
       "715  0.0  0.0      1  \n",
       "716  0.0  0.0      1  \n",
       "717  0.0  0.0      1  \n",
       "\n",
       "[701 rows x 12 columns]"
      ]
     },
     "execution_count": 453,
     "metadata": {},
     "output_type": "execute_result"
    }
   ],
   "source": [
    "df_MTX_PSM"
   ]
  },
  {
   "cell_type": "code",
   "execution_count": 454,
   "metadata": {},
   "outputs": [],
   "source": [
    "# 保存psm数据\n",
    "writer=pd.ExcelWriter(project_path+'/data/result/df_1.1.1_PSM控制变量.xlsx')\n",
    "df_MTX_PSM.to_excel(writer)\n",
    "writer.save()"
   ]
  },
  {
   "cell_type": "markdown",
   "metadata": {},
   "source": [
    "### 匹配的PSM分组数据"
   ]
  },
  {
   "cell_type": "code",
   "execution_count": 455,
   "metadata": {},
   "outputs": [],
   "source": [
    "# 读入PSM匹配的数据\n",
    "df_PSM_match=pd.read_excel(project_path+'/data/result/PSM匹配结果.xlsx')\n",
    "# del df_PSM_match['Unnamed: 0']"
   ]
  },
  {
   "cell_type": "code",
   "execution_count": 456,
   "metadata": {},
   "outputs": [],
   "source": [
    "# 筛选PSM匹配的数据\n",
    "df_MTX_PSM_match = df_MTX_PSM[df_MTX_PSM['case_no'].isin(np.unique(df_PSM_match['case_no']))]"
   ]
  },
  {
   "cell_type": "code",
   "execution_count": 457,
   "metadata": {},
   "outputs": [
    {
     "data": {
      "text/plain": [
       "(434, 12)"
      ]
     },
     "execution_count": 457,
     "metadata": {},
     "output_type": "execute_result"
    }
   ],
   "source": [
    "df_MTX_PSM_match.shape"
   ]
  },
  {
   "cell_type": "code",
   "execution_count": 458,
   "metadata": {},
   "outputs": [],
   "source": [
    "# 筛选PSM匹配的分组数据\n",
    "writer=pd.ExcelWriter(project_path+'/data/result/df_1.1.2_匹配的PSM控制变量.xlsx')\n",
    "df_MTX_PSM_match.to_excel(writer)\n",
    "writer.save()"
   ]
  },
  {
   "cell_type": "markdown",
   "metadata": {},
   "source": [
    "### PSM控制变量统计"
   ]
  },
  {
   "cell_type": "code",
   "execution_count": 459,
   "metadata": {},
   "outputs": [],
   "source": [
    "# 分类变量名\n",
    "discrete_col=['gender', 'HGB_3d', 'WBC_3d', 'PLT_3d','smoking', 'drinking', 'EH', 'DM', 'HCV']\n",
    "# 连续变量名\n",
    "# continuous_col=[x for x in df_MTX_PSM_match.columns if x not in discrete_col]\n",
    "# continuous_col.remove('case_no')\n",
    "continuous_col=['age']"
   ]
  },
  {
   "cell_type": "code",
   "execution_count": 460,
   "metadata": {},
   "outputs": [],
   "source": [
    "# 提取甲氨蝶呤高低剂量组\n",
    "df_MTX_high = df_MTX_PSM_match[df_MTX_PSM_match['group']==1]\n",
    "df_MTX_low = df_MTX_PSM_match[df_MTX_PSM_match['group']==0]"
   ]
  },
  {
   "cell_type": "markdown",
   "metadata": {},
   "source": [
    "#### PSM分类变量统计"
   ]
  },
  {
   "cell_type": "code",
   "execution_count": 484,
   "metadata": {},
   "outputs": [],
   "source": [
    "# 求分类变量比例\n",
    "feature_list=[]  \n",
    "percent_high_0_list=[]\n",
    "percent_high_1_list=[]\n",
    "percent_low_0_list=[]\n",
    "percent_low_1_list=[]\n",
    "for i in discrete_col:\n",
    "    feature_list.append(i)\n",
    "    # 高剂量组的比例\n",
    "    percent_high_0=df_MTX_high[df_MTX_high[i]==0].shape[0]/df_MTX_high.shape[0]\n",
    "    percent_high_1=df_MTX_high[df_MTX_high[i]==1].shape[0]/df_MTX_high.shape[0]\n",
    "    percent_high_0_list.append(percent_high_0)\n",
    "    percent_high_1_list.append(percent_high_1)\n",
    "    # 低剂量组的比例\n",
    "    percent_low_0=df_MTX_low[df_MTX_low[i]==0].shape[0]/df_MTX_low.shape[0]\n",
    "    percent_low_1=df_MTX_low[df_MTX_low[i]==1].shape[0]/df_MTX_low.shape[0]\n",
    "    percent_low_0_list.append(percent_low_0)\n",
    "    percent_low_1_list.append(percent_low_1)  "
   ]
  },
  {
   "cell_type": "code",
   "execution_count": 485,
   "metadata": {},
   "outputs": [],
   "source": [
    "df_result=pd.DataFrame({'特征':feature_list,\n",
    "                        'high_0':percent_high_0_list,\n",
    "                        'low_0':percent_low_0_list,\n",
    "                        'high_1':percent_high_1_list,\n",
    "                        'low_1':percent_low_1_list})"
   ]
  },
  {
   "cell_type": "code",
   "execution_count": 486,
   "metadata": {},
   "outputs": [],
   "source": [
    "# 保存分类变量统计\n",
    "writer=pd.ExcelWriter(project_path+'/data/result/df_1.1.3_分类变量统计.xlsx')\n",
    "df_result.to_excel(writer)\n",
    "writer.save()"
   ]
  },
  {
   "cell_type": "markdown",
   "metadata": {},
   "source": [
    "#### PSM连续变量统计"
   ]
  },
  {
   "cell_type": "code",
   "execution_count": 488,
   "metadata": {},
   "outputs": [],
   "source": [
    "# 求连续变量均值、方差、标准差\n",
    "feature_list=[]  \n",
    "mean_list_high=[]\n",
    "mean_list_low=[]\n",
    "std_list_high=[]\n",
    "std_list_low=[]\n",
    "for i in continuous_col:\n",
    "    feature_list.append(i)\n",
    "    # 均值\n",
    "    mean_value_high= df_MTX_high[i].mean()\n",
    "    mean_value_low= df_MTX_low[i].mean()\n",
    "    mean_list_high.append(mean_value_high)\n",
    "    mean_list_low.append(mean_value_low)\n",
    "    # 标准差\n",
    "    std_value_high= df_MTX_high[i].std()\n",
    "    std_value_low= df_MTX_low[i].std()\n",
    "    std_list_high.append(std_value_high)\n",
    "    std_list_low.append(std_value_low)"
   ]
  },
  {
   "cell_type": "code",
   "execution_count": 489,
   "metadata": {},
   "outputs": [],
   "source": [
    "df_result=pd.DataFrame({'特征':feature_list,\n",
    "                        'mean_high':mean_list_high,\n",
    "                        'mean_low':mean_list_low,\n",
    "                        'std_high':std_list_high,\n",
    "                        'std_low':std_list_low})"
   ]
  },
  {
   "cell_type": "code",
   "execution_count": 490,
   "metadata": {},
   "outputs": [],
   "source": [
    "# 保存连续变量统计\n",
    "writer=pd.ExcelWriter(project_path+'/data/result/df_1.1.3_连续变量统计.xlsx')\n",
    "df_result.to_excel(writer)\n",
    "writer.save()"
   ]
  },
  {
   "cell_type": "markdown",
   "metadata": {},
   "source": [
    "### PSM变量的显著性检验"
   ]
  },
  {
   "cell_type": "markdown",
   "metadata": {},
   "source": [
    "#### PSM的分类变量显著性检验"
   ]
  },
  {
   "cell_type": "code",
   "execution_count": 467,
   "metadata": {},
   "outputs": [],
   "source": [
    "# 二分类卡方检验\n",
    "from scipy.stats import chi2_contingency\n",
    "feature_list=[]\n",
    "y_list=[]\n",
    "t_list=[]\n",
    "p_list=[]\n",
    "sig_list=[]\n",
    "for i in discrete_col:\n",
    "    result = chi2_contingency(pd.crosstab(df_MTX_PSM_match['group'],df_MTX_PSM_match[i]))\n",
    "    t,p=result[0:2]\n",
    "    feature_list.append(i)\n",
    "    y_list.append('卡方检验')\n",
    "    t_list.append(t)\n",
    "    p_list.append(p)\n",
    "    if p <=0.05:\n",
    "        sig='显著'\n",
    "    else:\n",
    "        sig='不显著'\n",
    "    sig_list.append(sig)"
   ]
  },
  {
   "cell_type": "code",
   "execution_count": 468,
   "metadata": {},
   "outputs": [],
   "source": [
    "df_result=pd.DataFrame({'特征':feature_list,\n",
    "                        '检验指标':y_list,\n",
    "                        't值':t_list,\n",
    "                        'p值':p_list,\n",
    "                        '显著性结果':sig_list})"
   ]
  },
  {
   "cell_type": "code",
   "execution_count": 470,
   "metadata": {},
   "outputs": [],
   "source": [
    "# psm分类变量显著性检验\n",
    "writer=pd.ExcelWriter(project_path+'/data/result/df_1.1.4_PSM分类变量显著性检验.xlsx')\n",
    "df_result.to_excel(writer)\n",
    "writer.save()"
   ]
  },
  {
   "cell_type": "markdown",
   "metadata": {},
   "source": [
    "####  PSM的连续变量显著性检验"
   ]
  },
  {
   "cell_type": "code",
   "execution_count": 471,
   "metadata": {},
   "outputs": [],
   "source": [
    "from scipy.stats import kstest,shapiro\n",
    "##检验是否正态\n",
    "def norm_test(data):\n",
    "    if len(data) > 30:\n",
    "        norm, p = kstest(data, 'norm')\n",
    "    else:\n",
    "        norm, p = shapiro(data)\n",
    "    #print(t,p)\n",
    "    if p>=0.05:\n",
    "        return True\n",
    "    else:\n",
    "        return False"
   ]
  },
  {
   "cell_type": "code",
   "execution_count": 472,
   "metadata": {},
   "outputs": [],
   "source": [
    "import scipy.stats as st\n",
    "# 连续变量的显著性检验\n",
    "def test2(data_b, data_p):\n",
    "    if norm_test(data_b) and norm_test(data_p):\n",
    "        x = 1\n",
    "        y = '独立样本T检验'\n",
    "        t, p = st.ttest_ind(list(data_b),list(data_p), nan_policy='omit')\n",
    "    else:\n",
    "        x = 0\n",
    "        y = 'Mann-Whitney U检验'\n",
    "        t,p = st.mannwhitneyu(list(data_b),list(data_p))\n",
    "    return x,y,t,p"
   ]
  },
  {
   "cell_type": "code",
   "execution_count": 473,
   "metadata": {},
   "outputs": [],
   "source": [
    "def sig_test(df_high,df_low,list):\n",
    "\n",
    "    feature_list=[]  # 特征列表\n",
    "    y_list=[]  # 显著性检验方法\n",
    "    t_list=[]  # 统计量\n",
    "    p_list=[]  # p值\n",
    "    result_list=[]  # 是否显著\n",
    "    high_mean_list=[]\n",
    "    low_mean_list=[]\n",
    "\n",
    "    for i in list:\n",
    "        # 高剂量组统计\n",
    "        df_high_nt=df_high[df_high[i].notnull()]\n",
    "        data_high=df_high_nt[i]\n",
    "        high_mean=round(data_high.mean(),2)\n",
    "        \n",
    "        df_low_nt=df_low[df_low[i].notnull()]\n",
    "        data_low=df_low_nt[i]\n",
    "        low_mean=round(data_low.mean(),2)\n",
    "\n",
    "        # 计算高低剂量组显著性差异\n",
    "        if data_high.shape[0] >= 10 and data_low.shape[0]>=10:\n",
    "            # 连续变量检验\n",
    "            x,y,t,p = test2(data_high, data_low)\n",
    "            if p <=0.05:\n",
    "                sig='显著'\n",
    "            else:\n",
    "                sig='不显著'\n",
    "            # 显著性 \n",
    "            feature_list.append(i)\n",
    "            y_list.append(y)\n",
    "            t_list.append(t)\n",
    "            p_list.append(p)\n",
    "            result_list.append(sig)\n",
    "            high_mean_list.append(high_mean)\n",
    "            low_mean_list.append(low_mean)\n",
    "\n",
    "    df_result=pd.DataFrame({'特征':feature_list,\n",
    "                            '高剂量均值':high_mean_list,\n",
    "                            '低剂量均值':low_mean_list,\n",
    "                            '检验指标':y_list,\n",
    "                            't值':t_list,\n",
    "                            'p值':p_list,\n",
    "                            '显著性结果':result_list})\n",
    "    return df_result"
   ]
  },
  {
   "cell_type": "code",
   "execution_count": 474,
   "metadata": {},
   "outputs": [],
   "source": [
    "# 提取甲氨蝶呤高低剂量组\n",
    "df_MTX_high = df_MTX_PSM_match[df_MTX_PSM_match['group']==1]\n",
    "df_MTX_low = df_MTX_PSM_match[df_MTX_PSM_match['group']==0]"
   ]
  },
  {
   "cell_type": "code",
   "execution_count": 475,
   "metadata": {},
   "outputs": [],
   "source": [
    "# 甲氨蝶呤高低剂量组PSM控制变量统计和显著性检验\n",
    "df_MTX_PSM_sig = sig_test(df_MTX_high,df_MTX_low,continuous_col)\n",
    "df_MTX_PSM_sig = df_MTX_PSM_sig.reset_index(drop=True)"
   ]
  },
  {
   "cell_type": "code",
   "execution_count": 476,
   "metadata": {},
   "outputs": [],
   "source": [
    "# 保存高低剂量组PSM控制变量统计和显著性检验\n",
    "writer=pd.ExcelWriter(project_path+r'/data/result/df_1.1.4_PSM连续变量显著性检验.xlsx')\n",
    "df_MTX_PSM_sig.to_excel(writer)\n",
    "writer.save()"
   ]
  },
  {
   "cell_type": "markdown",
   "metadata": {},
   "source": [
    "# 变量统计"
   ]
  },
  {
   "cell_type": "code",
   "execution_count": 28,
   "metadata": {},
   "outputs": [],
   "source": [
    "df_model=pd.read_excel(project_path+'/data/result/feature_engineering/df_1_特征清洗.xlsx')\n",
    "if 'Unnamed: 0' in df_model.columns:\n",
    "    df_model = df_model.drop(['Unnamed: 0'], axis=1)"
   ]
  },
  {
   "cell_type": "code",
   "execution_count": 29,
   "metadata": {},
   "outputs": [],
   "source": [
    "# 选取变量\n",
    "discrete_col = ['bmd_label','异甘草酸镁','甘草酸苷','托烷司琼','谷胱甘肽','gender','多烯磷脂酰','长春新碱','吸烟史']\n",
    "continuous_col=[x for x in df_model.columns if x not in discrete_col]\n",
    "# continuous_col.remove('bmd_label')"
   ]
  },
  {
   "cell_type": "markdown",
   "metadata": {},
   "source": [
    "## 分类变量统计"
   ]
  },
  {
   "cell_type": "code",
   "execution_count": 30,
   "metadata": {},
   "outputs": [],
   "source": [
    "# 求分类变量比例\n",
    "feature_list=[]  \n",
    "num_0_list=[]\n",
    "num_1_list=[]\n",
    "percent_0_list=[]\n",
    "percent_1_list=[]\n",
    "miss_rate_list=[]\n",
    "\n",
    "for i in discrete_col:\n",
    "    feature_list.append(i)\n",
    "    num_0=df_model[df_model[i]==0].shape[0]\n",
    "    num_1=df_model[df_model[i]==1].shape[0]\n",
    "    \n",
    "    num_0_list.append(num_0)\n",
    "    num_1_list.append(num_1)\n",
    "    \n",
    "    percent_0=num_0/df_model.shape[0]\n",
    "    percent_0=\"%.2f%%\" % (percent_0 * 100)  \n",
    "    percent_1=num_1/df_model.shape[0]\n",
    "    percent_1=\"%.2f%%\" % (percent_1 * 100)  \n",
    "    percent_0_list.append(percent_0)\n",
    "    percent_1_list.append(percent_1)\n",
    "    \n",
    "    miss_rate=df_model[i].isnull().sum()/df_model.shape[0]\n",
    "    miss_rate=\"%.2f%%\" % (miss_rate * 100)      # 百分数输出\n",
    "    miss_rate_list.append(miss_rate)"
   ]
  },
  {
   "cell_type": "code",
   "execution_count": 31,
   "metadata": {},
   "outputs": [
    {
     "data": {
      "text/plain": [
       "'0.28%'"
      ]
     },
     "execution_count": 31,
     "metadata": {},
     "output_type": "execute_result"
    }
   ],
   "source": [
    "miss_rate"
   ]
  },
  {
   "cell_type": "code",
   "execution_count": 32,
   "metadata": {},
   "outputs": [],
   "source": [
    "df_result=pd.DataFrame({'特征':feature_list,\n",
    "                        'percent_0_num':num_0_list,\n",
    "                        'percent_0_percent':percent_0_list,\n",
    "                        'percent_1_num':num_1_list,\n",
    "                        'percent_1_percent':percent_1_list,\n",
    "                        'missing_rate':miss_rate_list})"
   ]
  },
  {
   "cell_type": "code",
   "execution_count": 33,
   "metadata": {},
   "outputs": [],
   "source": [
    "# 保存分类变量统计\n",
    "writer=pd.ExcelWriter(project_path+'/data/result/df_2.1_分类变量统计.xlsx')\n",
    "df_result.to_excel(writer)\n",
    "writer.save()"
   ]
  },
  {
   "cell_type": "markdown",
   "metadata": {},
   "source": [
    "## 连续变量统计"
   ]
  },
  {
   "cell_type": "code",
   "execution_count": 41,
   "metadata": {},
   "outputs": [],
   "source": [
    "# 统计全变量体系各变量的平均数、上下四分位数、缺失率\n",
    "feature_list=[]\n",
    "mean_list=[]\n",
    "up_quarter_list=[]\n",
    "down_quarter_list=[]\n",
    "miss_list=[]\n",
    "\n",
    "for i in continuous_col:\n",
    "    data = df_model[i]\n",
    "    stat_result = pd.DataFrame(data.describe())\n",
    "    # print(stat_result)\n",
    "    mean_value=stat_result.loc['mean',i]\n",
    "    up_quarter=stat_result.loc['25%',i]\n",
    "    down_quarter=stat_result.loc['75%',i]\n",
    "\n",
    "    miss_rate=df_model[i].isnull().sum()/df_model.shape[0]\n",
    "    miss_rate=\"%.2f%%\" % (miss_rate * 100)      # 百分数输出\n",
    "\n",
    "    feature_list.append(i)\n",
    "    mean_list.append(round(mean_value,2))\n",
    "    up_quarter_list.append(round(up_quarter,2))\n",
    "    down_quarter_list.append(round(down_quarter,2))\n",
    "    miss_list.append(miss_rate)"
   ]
  },
  {
   "cell_type": "code",
   "execution_count": 42,
   "metadata": {},
   "outputs": [
    {
     "data": {
      "text/html": [
       "<div>\n",
       "<style scoped>\n",
       "    .dataframe tbody tr th:only-of-type {\n",
       "        vertical-align: middle;\n",
       "    }\n",
       "\n",
       "    .dataframe tbody tr th {\n",
       "        vertical-align: top;\n",
       "    }\n",
       "\n",
       "    .dataframe thead th {\n",
       "        text-align: right;\n",
       "    }\n",
       "</style>\n",
       "<table border=\"1\" class=\"dataframe\">\n",
       "  <thead>\n",
       "    <tr style=\"text-align: right;\">\n",
       "      <th></th>\n",
       "      <th>谷草转氨酶(干式)</th>\n",
       "    </tr>\n",
       "  </thead>\n",
       "  <tbody>\n",
       "    <tr>\n",
       "      <th>count</th>\n",
       "      <td>713.000000</td>\n",
       "    </tr>\n",
       "    <tr>\n",
       "      <th>mean</th>\n",
       "      <td>72.552595</td>\n",
       "    </tr>\n",
       "    <tr>\n",
       "      <th>std</th>\n",
       "      <td>91.804753</td>\n",
       "    </tr>\n",
       "    <tr>\n",
       "      <th>min</th>\n",
       "      <td>12.000000</td>\n",
       "    </tr>\n",
       "    <tr>\n",
       "      <th>25%</th>\n",
       "      <td>33.000000</td>\n",
       "    </tr>\n",
       "    <tr>\n",
       "      <th>50%</th>\n",
       "      <td>49.000000</td>\n",
       "    </tr>\n",
       "    <tr>\n",
       "      <th>75%</th>\n",
       "      <td>79.000000</td>\n",
       "    </tr>\n",
       "    <tr>\n",
       "      <th>max</th>\n",
       "      <td>1177.000000</td>\n",
       "    </tr>\n",
       "  </tbody>\n",
       "</table>\n",
       "</div>"
      ],
      "text/plain": [
       "         谷草转氨酶(干式)\n",
       "count   713.000000\n",
       "mean     72.552595\n",
       "std      91.804753\n",
       "min      12.000000\n",
       "25%      33.000000\n",
       "50%      49.000000\n",
       "75%      79.000000\n",
       "max    1177.000000"
      ]
     },
     "execution_count": 42,
     "metadata": {},
     "output_type": "execute_result"
    }
   ],
   "source": [
    "stat_result"
   ]
  },
  {
   "cell_type": "code",
   "execution_count": 43,
   "metadata": {},
   "outputs": [],
   "source": [
    "df_result=pd.DataFrame({'特征':feature_list,\n",
    "                        'mean_list':mean_list,\n",
    "                        'up_quarter':up_quarter_list,\n",
    "                        'down_quarter':down_quarter_list,\n",
    "                        'miss_list':miss_list})"
   ]
  },
  {
   "cell_type": "code",
   "execution_count": 44,
   "metadata": {},
   "outputs": [],
   "source": [
    "# 保存连续变量统计\n",
    "writer=pd.ExcelWriter(project_path+'/data/result/df_2.2_连续变量统计.xlsx')\n",
    "df_result.to_excel(writer)\n",
    "writer.save()"
   ]
  }
 ],
 "metadata": {
  "kernelspec": {
   "display_name": "Python 3",
   "language": "python",
   "name": "python3"
  },
  "language_info": {
   "codemirror_mode": {
    "name": "ipython",
    "version": 3
   },
   "file_extension": ".py",
   "mimetype": "text/x-python",
   "name": "python",
   "nbconvert_exporter": "python",
   "pygments_lexer": "ipython3",
   "version": "3.6.8"
  },
  "toc": {
   "base_numbering": 1,
   "nav_menu": {},
   "number_sections": true,
   "sideBar": true,
   "skip_h1_title": false,
   "title_cell": "Table of Contents",
   "title_sidebar": "Contents",
   "toc_cell": false,
   "toc_position": {
    "height": "calc(100% - 180px)",
    "left": "10px",
    "top": "150px",
    "width": "460.8px"
   },
   "toc_section_display": true,
   "toc_window_display": true
  },
  "varInspector": {
   "cols": {
    "lenName": 16,
    "lenType": 16,
    "lenVar": 40
   },
   "kernels_config": {
    "python": {
     "delete_cmd_postfix": "",
     "delete_cmd_prefix": "del ",
     "library": "var_list.py",
     "varRefreshCmd": "print(var_dic_list())"
    },
    "r": {
     "delete_cmd_postfix": ") ",
     "delete_cmd_prefix": "rm(",
     "library": "var_list.r",
     "varRefreshCmd": "cat(var_dic_list()) "
    }
   },
   "types_to_exclude": [
    "module",
    "function",
    "builtin_function_or_method",
    "instance",
    "_Feature"
   ],
   "window_display": false
  }
 },
 "nbformat": 4,
 "nbformat_minor": 2
}
