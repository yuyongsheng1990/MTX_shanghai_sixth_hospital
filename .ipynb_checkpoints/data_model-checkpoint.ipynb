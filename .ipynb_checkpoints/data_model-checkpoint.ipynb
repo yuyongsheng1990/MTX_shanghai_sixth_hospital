{
 "cells": [
  {
   "cell_type": "code",
   "execution_count": 3,
   "metadata": {},
   "outputs": [],
   "source": [
    "import pandas as pd\n",
    "import numpy as np\n",
    "\n",
    "import sys\n",
    "import re\n",
    "import os\n",
    "project_path = os.getcwd()"
   ]
  },
  {
   "cell_type": "markdown",
   "metadata": {},
   "source": [
    "# 建模"
   ]
  },
  {
   "cell_type": "markdown",
   "metadata": {},
   "source": [
    "## 读入数据"
   ]
  },
  {
   "cell_type": "code",
   "execution_count": 63,
   "metadata": {},
   "outputs": [],
   "source": [
    "df_model =pd.read_excel(project_path +'/data/result/df_model_data.xlsx')\n",
    "if 'Unnamed: 0' in df_model.columns:\n",
    "    df_model = df_model.drop(['Unnamed: 0'], axis=1)"
   ]
  },
  {
   "cell_type": "code",
   "execution_count": 64,
   "metadata": {},
   "outputs": [],
   "source": [
    "discrete_col = ['gender','保肝药']\n",
    "continuous_col=[x for x in df_model.columns if x not in discrete_col]\n",
    "continuous_col.remove('bmd_label')"
   ]
  },
  {
   "cell_type": "markdown",
   "metadata": {},
   "source": [
    "## 数据归一化"
   ]
  },
  {
   "cell_type": "code",
   "execution_count": 65,
   "metadata": {},
   "outputs": [],
   "source": [
    "# 防止不同维特征数据差距过大，影响建模效果\n",
    "for i in continuous_col:\n",
    "    max_value = df_model[i].max()\n",
    "    df_model[i]=df_model[i].apply(lambda x: round(x/max_value,3))"
   ]
  },
  {
   "cell_type": "code",
   "execution_count": 66,
   "metadata": {},
   "outputs": [
    {
     "data": {
      "text/html": [
       "<div>\n",
       "<style scoped>\n",
       "    .dataframe tbody tr th:only-of-type {\n",
       "        vertical-align: middle;\n",
       "    }\n",
       "\n",
       "    .dataframe tbody tr th {\n",
       "        vertical-align: top;\n",
       "    }\n",
       "\n",
       "    .dataframe thead th {\n",
       "        text-align: right;\n",
       "    }\n",
       "</style>\n",
       "<table border=\"1\" class=\"dataframe\">\n",
       "  <thead>\n",
       "    <tr style=\"text-align: right;\">\n",
       "      <th></th>\n",
       "      <th>bmd_label</th>\n",
       "      <th>谷草转氨酶(干式)</th>\n",
       "      <th>MTX_tdm_48h</th>\n",
       "      <th>γ-谷氨酰酶(干式)</th>\n",
       "      <th>红细胞分布宽度</th>\n",
       "      <th>gender</th>\n",
       "      <th>谷丙转氨酶(干式)</th>\n",
       "      <th>白蛋白(干式)</th>\n",
       "      <th>总蛋白(干式)</th>\n",
       "      <th>RBC平均血红量</th>\n",
       "      <th>...</th>\n",
       "      <th>嗜碱性细胞百分比</th>\n",
       "      <th>RBC平均容量</th>\n",
       "      <th>血清钾(干式)</th>\n",
       "      <th>非鳞状上皮细胞</th>\n",
       "      <th>单核细胞百分比</th>\n",
       "      <th>总胆红素(干式)</th>\n",
       "      <th>淋巴细胞绝对值</th>\n",
       "      <th>age</th>\n",
       "      <th>嗜碱性细胞绝对值</th>\n",
       "      <th>保肝药</th>\n",
       "    </tr>\n",
       "  </thead>\n",
       "  <tbody>\n",
       "    <tr>\n",
       "      <th>0</th>\n",
       "      <td>1</td>\n",
       "      <td>0.012</td>\n",
       "      <td>0.020</td>\n",
       "      <td>0.160</td>\n",
       "      <td>0.543</td>\n",
       "      <td>1</td>\n",
       "      <td>0.028</td>\n",
       "      <td>0.750</td>\n",
       "      <td>0.768</td>\n",
       "      <td>0.794</td>\n",
       "      <td>...</td>\n",
       "      <td>0.095</td>\n",
       "      <td>0.830</td>\n",
       "      <td>0.722</td>\n",
       "      <td>0.062</td>\n",
       "      <td>0.134</td>\n",
       "      <td>0.096</td>\n",
       "      <td>0.277</td>\n",
       "      <td>0.746</td>\n",
       "      <td>0.071</td>\n",
       "      <td>0</td>\n",
       "    </tr>\n",
       "    <tr>\n",
       "      <th>1</th>\n",
       "      <td>1</td>\n",
       "      <td>0.566</td>\n",
       "      <td>1.000</td>\n",
       "      <td>0.163</td>\n",
       "      <td>0.430</td>\n",
       "      <td>0</td>\n",
       "      <td>0.761</td>\n",
       "      <td>0.625</td>\n",
       "      <td>0.659</td>\n",
       "      <td>0.718</td>\n",
       "      <td>...</td>\n",
       "      <td>0.048</td>\n",
       "      <td>0.690</td>\n",
       "      <td>0.722</td>\n",
       "      <td>0.062</td>\n",
       "      <td>0.026</td>\n",
       "      <td>0.759</td>\n",
       "      <td>0.191</td>\n",
       "      <td>0.190</td>\n",
       "      <td>0.071</td>\n",
       "      <td>1</td>\n",
       "    </tr>\n",
       "    <tr>\n",
       "      <th>2</th>\n",
       "      <td>1</td>\n",
       "      <td>0.035</td>\n",
       "      <td>0.002</td>\n",
       "      <td>0.172</td>\n",
       "      <td>0.597</td>\n",
       "      <td>1</td>\n",
       "      <td>0.101</td>\n",
       "      <td>0.750</td>\n",
       "      <td>0.720</td>\n",
       "      <td>0.802</td>\n",
       "      <td>...</td>\n",
       "      <td>0.238</td>\n",
       "      <td>0.829</td>\n",
       "      <td>0.667</td>\n",
       "      <td>0.000</td>\n",
       "      <td>0.209</td>\n",
       "      <td>0.241</td>\n",
       "      <td>0.234</td>\n",
       "      <td>0.302</td>\n",
       "      <td>0.143</td>\n",
       "      <td>0</td>\n",
       "    </tr>\n",
       "    <tr>\n",
       "      <th>3</th>\n",
       "      <td>1</td>\n",
       "      <td>0.016</td>\n",
       "      <td>0.002</td>\n",
       "      <td>0.091</td>\n",
       "      <td>0.543</td>\n",
       "      <td>0</td>\n",
       "      <td>0.030</td>\n",
       "      <td>0.812</td>\n",
       "      <td>0.829</td>\n",
       "      <td>0.780</td>\n",
       "      <td>...</td>\n",
       "      <td>0.238</td>\n",
       "      <td>0.811</td>\n",
       "      <td>0.685</td>\n",
       "      <td>0.000</td>\n",
       "      <td>0.239</td>\n",
       "      <td>0.072</td>\n",
       "      <td>0.170</td>\n",
       "      <td>0.873</td>\n",
       "      <td>0.143</td>\n",
       "      <td>0</td>\n",
       "    </tr>\n",
       "    <tr>\n",
       "      <th>4</th>\n",
       "      <td>1</td>\n",
       "      <td>0.247</td>\n",
       "      <td>0.002</td>\n",
       "      <td>0.218</td>\n",
       "      <td>0.550</td>\n",
       "      <td>0</td>\n",
       "      <td>0.367</td>\n",
       "      <td>0.812</td>\n",
       "      <td>0.720</td>\n",
       "      <td>0.853</td>\n",
       "      <td>...</td>\n",
       "      <td>0.143</td>\n",
       "      <td>0.905</td>\n",
       "      <td>0.685</td>\n",
       "      <td>0.000</td>\n",
       "      <td>0.172</td>\n",
       "      <td>0.518</td>\n",
       "      <td>0.149</td>\n",
       "      <td>0.206</td>\n",
       "      <td>0.071</td>\n",
       "      <td>1</td>\n",
       "    </tr>\n",
       "    <tr>\n",
       "      <th>...</th>\n",
       "      <td>...</td>\n",
       "      <td>...</td>\n",
       "      <td>...</td>\n",
       "      <td>...</td>\n",
       "      <td>...</td>\n",
       "      <td>...</td>\n",
       "      <td>...</td>\n",
       "      <td>...</td>\n",
       "      <td>...</td>\n",
       "      <td>...</td>\n",
       "      <td>...</td>\n",
       "      <td>...</td>\n",
       "      <td>...</td>\n",
       "      <td>...</td>\n",
       "      <td>...</td>\n",
       "      <td>...</td>\n",
       "      <td>...</td>\n",
       "      <td>...</td>\n",
       "      <td>...</td>\n",
       "      <td>...</td>\n",
       "      <td>...</td>\n",
       "    </tr>\n",
       "    <tr>\n",
       "      <th>713</th>\n",
       "      <td>0</td>\n",
       "      <td>0.070</td>\n",
       "      <td>0.002</td>\n",
       "      <td>0.344</td>\n",
       "      <td>0.504</td>\n",
       "      <td>1</td>\n",
       "      <td>0.128</td>\n",
       "      <td>0.750</td>\n",
       "      <td>0.707</td>\n",
       "      <td>0.839</td>\n",
       "      <td>...</td>\n",
       "      <td>0.190</td>\n",
       "      <td>0.826</td>\n",
       "      <td>0.759</td>\n",
       "      <td>0.000</td>\n",
       "      <td>0.134</td>\n",
       "      <td>0.205</td>\n",
       "      <td>0.191</td>\n",
       "      <td>0.254</td>\n",
       "      <td>0.857</td>\n",
       "      <td>1</td>\n",
       "    </tr>\n",
       "    <tr>\n",
       "      <th>714</th>\n",
       "      <td>0</td>\n",
       "      <td>0.038</td>\n",
       "      <td>0.040</td>\n",
       "      <td>0.169</td>\n",
       "      <td>0.543</td>\n",
       "      <td>1</td>\n",
       "      <td>0.055</td>\n",
       "      <td>0.729</td>\n",
       "      <td>0.707</td>\n",
       "      <td>0.810</td>\n",
       "      <td>...</td>\n",
       "      <td>0.143</td>\n",
       "      <td>0.820</td>\n",
       "      <td>0.759</td>\n",
       "      <td>0.000</td>\n",
       "      <td>0.168</td>\n",
       "      <td>0.361</td>\n",
       "      <td>0.319</td>\n",
       "      <td>0.460</td>\n",
       "      <td>0.429</td>\n",
       "      <td>1</td>\n",
       "    </tr>\n",
       "    <tr>\n",
       "      <th>715</th>\n",
       "      <td>0</td>\n",
       "      <td>0.036</td>\n",
       "      <td>0.002</td>\n",
       "      <td>0.311</td>\n",
       "      <td>0.531</td>\n",
       "      <td>1</td>\n",
       "      <td>0.063</td>\n",
       "      <td>0.771</td>\n",
       "      <td>0.732</td>\n",
       "      <td>0.794</td>\n",
       "      <td>...</td>\n",
       "      <td>0.095</td>\n",
       "      <td>0.795</td>\n",
       "      <td>0.685</td>\n",
       "      <td>0.000</td>\n",
       "      <td>0.052</td>\n",
       "      <td>0.084</td>\n",
       "      <td>0.128</td>\n",
       "      <td>0.270</td>\n",
       "      <td>0.357</td>\n",
       "      <td>1</td>\n",
       "    </tr>\n",
       "    <tr>\n",
       "      <th>716</th>\n",
       "      <td>0</td>\n",
       "      <td>0.044</td>\n",
       "      <td>0.216</td>\n",
       "      <td>0.196</td>\n",
       "      <td>0.659</td>\n",
       "      <td>1</td>\n",
       "      <td>0.058</td>\n",
       "      <td>0.917</td>\n",
       "      <td>0.890</td>\n",
       "      <td>0.777</td>\n",
       "      <td>...</td>\n",
       "      <td>0.143</td>\n",
       "      <td>0.792</td>\n",
       "      <td>0.685</td>\n",
       "      <td>0.000</td>\n",
       "      <td>0.116</td>\n",
       "      <td>0.578</td>\n",
       "      <td>0.404</td>\n",
       "      <td>0.413</td>\n",
       "      <td>0.500</td>\n",
       "      <td>1</td>\n",
       "    </tr>\n",
       "    <tr>\n",
       "      <th>717</th>\n",
       "      <td>0</td>\n",
       "      <td>0.022</td>\n",
       "      <td>0.018</td>\n",
       "      <td>0.375</td>\n",
       "      <td>0.465</td>\n",
       "      <td>1</td>\n",
       "      <td>0.032</td>\n",
       "      <td>0.708</td>\n",
       "      <td>0.744</td>\n",
       "      <td>0.783</td>\n",
       "      <td>...</td>\n",
       "      <td>0.048</td>\n",
       "      <td>0.779</td>\n",
       "      <td>0.815</td>\n",
       "      <td>0.000</td>\n",
       "      <td>0.067</td>\n",
       "      <td>0.060</td>\n",
       "      <td>0.128</td>\n",
       "      <td>0.238</td>\n",
       "      <td>0.071</td>\n",
       "      <td>1</td>\n",
       "    </tr>\n",
       "  </tbody>\n",
       "</table>\n",
       "<p>718 rows × 30 columns</p>\n",
       "</div>"
      ],
      "text/plain": [
       "     bmd_label  谷草转氨酶(干式)  MTX_tdm_48h  γ-谷氨酰酶(干式)  红细胞分布宽度  gender  \\\n",
       "0            1      0.012        0.020       0.160    0.543       1   \n",
       "1            1      0.566        1.000       0.163    0.430       0   \n",
       "2            1      0.035        0.002       0.172    0.597       1   \n",
       "3            1      0.016        0.002       0.091    0.543       0   \n",
       "4            1      0.247        0.002       0.218    0.550       0   \n",
       "..         ...        ...          ...         ...      ...     ...   \n",
       "713          0      0.070        0.002       0.344    0.504       1   \n",
       "714          0      0.038        0.040       0.169    0.543       1   \n",
       "715          0      0.036        0.002       0.311    0.531       1   \n",
       "716          0      0.044        0.216       0.196    0.659       1   \n",
       "717          0      0.022        0.018       0.375    0.465       1   \n",
       "\n",
       "     谷丙转氨酶(干式)  白蛋白(干式)  总蛋白(干式)  RBC平均血红量  ...  嗜碱性细胞百分比  RBC平均容量  血清钾(干式)  \\\n",
       "0        0.028    0.750    0.768     0.794  ...     0.095    0.830    0.722   \n",
       "1        0.761    0.625    0.659     0.718  ...     0.048    0.690    0.722   \n",
       "2        0.101    0.750    0.720     0.802  ...     0.238    0.829    0.667   \n",
       "3        0.030    0.812    0.829     0.780  ...     0.238    0.811    0.685   \n",
       "4        0.367    0.812    0.720     0.853  ...     0.143    0.905    0.685   \n",
       "..         ...      ...      ...       ...  ...       ...      ...      ...   \n",
       "713      0.128    0.750    0.707     0.839  ...     0.190    0.826    0.759   \n",
       "714      0.055    0.729    0.707     0.810  ...     0.143    0.820    0.759   \n",
       "715      0.063    0.771    0.732     0.794  ...     0.095    0.795    0.685   \n",
       "716      0.058    0.917    0.890     0.777  ...     0.143    0.792    0.685   \n",
       "717      0.032    0.708    0.744     0.783  ...     0.048    0.779    0.815   \n",
       "\n",
       "     非鳞状上皮细胞  单核细胞百分比  总胆红素(干式)  淋巴细胞绝对值    age  嗜碱性细胞绝对值  保肝药  \n",
       "0      0.062    0.134     0.096    0.277  0.746     0.071    0  \n",
       "1      0.062    0.026     0.759    0.191  0.190     0.071    1  \n",
       "2      0.000    0.209     0.241    0.234  0.302     0.143    0  \n",
       "3      0.000    0.239     0.072    0.170  0.873     0.143    0  \n",
       "4      0.000    0.172     0.518    0.149  0.206     0.071    1  \n",
       "..       ...      ...       ...      ...    ...       ...  ...  \n",
       "713    0.000    0.134     0.205    0.191  0.254     0.857    1  \n",
       "714    0.000    0.168     0.361    0.319  0.460     0.429    1  \n",
       "715    0.000    0.052     0.084    0.128  0.270     0.357    1  \n",
       "716    0.000    0.116     0.578    0.404  0.413     0.500    1  \n",
       "717    0.000    0.067     0.060    0.128  0.238     0.071    1  \n",
       "\n",
       "[718 rows x 30 columns]"
      ]
     },
     "execution_count": 66,
     "metadata": {},
     "output_type": "execute_result"
    }
   ],
   "source": [
    "df_model"
   ]
  },
  {
   "cell_type": "markdown",
   "metadata": {},
   "source": [
    "## 插补数据"
   ]
  },
  {
   "cell_type": "code",
   "execution_count": 67,
   "metadata": {},
   "outputs": [],
   "source": [
    "# 使用随机森林对缺失值进行插补\n",
    "import pandas as pd\n",
    "pd.set_option('mode.chained_assignment', None)\n",
    "import numpy as np\n",
    "from sklearn.ensemble import RandomForestRegressor\n",
    "from sklearn.model_selection import GridSearchCV\n",
    "def missing_value_interpolation(df):\n",
    "    df = df.reset_index(drop=True)\n",
    "    # 提取存在缺失值的列名\n",
    "    missing_list = []\n",
    "    for i in df.columns:\n",
    "        if df[i].isnull().sum() > 0:\n",
    "            missing_list.append(i)\n",
    "    missing_list_copy = missing_list.copy()\n",
    "    # 用该列未缺失的值训练随机森林，然后用训练好的rf预测缺失值\n",
    "    for i in range(len(missing_list)):\n",
    "        name=missing_list[0]\n",
    "        df_missing = df[missing_list_copy]\n",
    "        # 将其他列的缺失值用0表示。\n",
    "        missing_list.remove(name)\n",
    "        for j in missing_list:\n",
    "            df_missing[j]=df_missing[j].astype('str').apply(lambda x: 0 if x=='nan' else x)\n",
    "        df_missing_is = df_missing[df_missing[name].isnull()]\n",
    "        df_missing_not = df_missing[df_missing[name].notnull()]\n",
    "        y = df_missing_not[name]\n",
    "        x = df_missing_not.drop([name],axis=1)\n",
    "        # 列出参数列表\n",
    "        tree_grid_parameter = {'n_estimators': list((10, 50, 100, 150, 200))}\n",
    "        # 进行参数的搜索组合\n",
    "        grid = GridSearchCV(RandomForestRegressor(),param_grid=tree_grid_parameter,cv=3)\n",
    "        #rfr=RandomForestRegressor(random_state=0,n_estimators=100,n_jobs=-1)\n",
    "        #根据已有数据去拟合随机森林模型\n",
    "        grid.fit(x, y)\n",
    "        rfr = RandomForestRegressor(n_estimators=grid.best_params_['n_estimators'])\n",
    "        rfr.fit(x, y)\n",
    "        #预测缺失值\n",
    "        predict = rfr.predict(df_missing_is.drop([name],axis=1))\n",
    "        #填补缺失值\n",
    "        df.loc[df[name].isnull(),name] = predict\n",
    "    return df"
   ]
  },
  {
   "cell_type": "code",
   "execution_count": 68,
   "metadata": {},
   "outputs": [],
   "source": [
    "# 插补建模数据\n",
    "df_model_cb=missing_value_interpolation(df_model)"
   ]
  },
  {
   "cell_type": "code",
   "execution_count": 69,
   "metadata": {},
   "outputs": [],
   "source": [
    "# 保存插补数据\n",
    "writer = pd.ExcelWriter(project_path + '/data/result/df_model_data_插补.xlsx')\n",
    "df_model_cb.to_excel(writer)\n",
    "writer.save()"
   ]
  },
  {
   "cell_type": "markdown",
   "metadata": {},
   "source": [
    "## 划分数据集"
   ]
  },
  {
   "cell_type": "code",
   "execution_count": 42,
   "metadata": {},
   "outputs": [],
   "source": [
    "from auto_ml.utils_models import load_ml_model\n",
    "from sklearn.metrics import r2_score\n",
    "from sklearn.model_selection import train_test_split"
   ]
  },
  {
   "cell_type": "code",
   "execution_count": 70,
   "metadata": {},
   "outputs": [],
   "source": [
    "from auto_ml import Predictor\n",
    "# 划分训练集和测试集，比例为8:2\n",
    "x = df_model_cb.drop(['bmd_label'],axis=1)\n",
    "y = df_model_cb['bmd_label']\n",
    "\n",
    "tran_x, test_x, tran_y, test_y = train_test_split(x, y, test_size=0.2, random_state=5)"
   ]
  },
  {
   "cell_type": "markdown",
   "metadata": {},
   "source": [
    "## 训练集过采样"
   ]
  },
  {
   "cell_type": "code",
   "execution_count": 71,
   "metadata": {},
   "outputs": [],
   "source": [
    "# 进行过采样\n",
    "from imblearn.over_sampling import SMOTE\n",
    "sm = SMOTE(random_state=0)\n",
    "\n",
    "tran_x_sm,tran_y_sm = sm.fit_resample(tran_x,tran_y)"
   ]
  },
  {
   "cell_type": "markdown",
   "metadata": {},
   "source": [
    "## 训练模型"
   ]
  },
  {
   "cell_type": "markdown",
   "metadata": {},
   "source": [
    "### xgboost"
   ]
  },
  {
   "cell_type": "code",
   "execution_count": 72,
   "metadata": {},
   "outputs": [
    {
     "name": "stdout",
     "output_type": "stream",
     "text": [
      "              precision    recall  f1-score   support\n",
      "\n",
      "           0       0.90      0.92      0.91       129\n",
      "           1       0.17      0.13      0.15        15\n",
      "\n",
      "    accuracy                           0.84       144\n",
      "   macro avg       0.53      0.53      0.53       144\n",
      "weighted avg       0.82      0.84      0.83       144\n",
      "\n",
      "[[119  10]\n",
      " [ 13   2]]\n"
     ]
    }
   ],
   "source": [
    "# 直接使用xgboost和catboost包，而不是auto_ml\n",
    "import xgboost\n",
    "import lightgbm\n",
    "import catboost\n",
    "        from sklearn.metrics import r2_score,precision_score,classification_report,confusion_matrix\n",
    "# XGBoost模型\n",
    "# xgb_model=xgboost.XGBClassifier(max_depth=5,\n",
    "#                         learning_rate=0.01,\n",
    "#                         n_estimators=500,\n",
    "#                         min_child_weight=0.5,\n",
    "#                         eta=0.1,\n",
    "#                         gamma=0.5,\n",
    "#                         reg_lambda=10,\n",
    "#                         subsample=0.5,\n",
    "#                         colsample_bytree=0.8,\n",
    "#                         nthread=4,\n",
    "#                         scale_pos_weight=1)\n",
    "# 梦璇xgboost\n",
    "xgb_params = {'eta':[0.1, 0.2, 0.3],\n",
    "             'max-depth':[5,8,10],\n",
    "             'gamma':[0,0.1,0.2],\n",
    "             'min_child_weight':[1,3,5],\n",
    "             'objective':['binary:logistic']}\n",
    "XGB= xgb.XGBClassifier()\n",
    "grid = GridSearchCV(XGB, \n",
    "                    xgb_params, \n",
    "                    cv=kfold, \n",
    "                    scoring='f1')\n",
    "grid.fit(X_train_sc_sm, y_train_sm)\n",
    "grid.best_params_\n",
    "# LightGBM模型\n",
    "# xgb_model=lightgbm.LGBMClassifier(iterations=300, learning_rate=0.2, loss_function='RMSE',random_state=3)\n",
    "# CatBoost模型\n",
    "# xgb_model=catboost.CatBoostClassifier(iterations=300, learning_rate=0.2, loss_function='RMSE',random_state=3)\n",
    "xgb_model.fit(tran_x_sm,tran_y_sm)\n",
    "predictions=xgb_model.predict(test_x)\n",
    "# print(predictions)\n",
    "print(classification_report(test_y, xgb_model.predict(test_x)))\n",
    "\n",
    "cm2_LogR_model = confusion_matrix(test_y, xgb_model.predict(test_x))\n",
    "print(cm2_LogR_model) #混肴矩阵"
   ]
  },
  {
   "cell_type": "markdown",
   "metadata": {},
   "source": [
    "### Random Forest"
   ]
  },
  {
   "cell_type": "code",
   "execution_count": null,
   "metadata": {},
   "outputs": [],
   "source": [
    "# 随机森林，GBDT\n",
    "from sklearn.ensemble import RandomForestClassifier,GradientBoostingClassifier\n",
    "from sklearn.model_selection import GridSearchCV\n",
    "# 列出参数列表\n",
    "tree_grid_parameter = {'n_estimators': list((10, 50, 100, 150, 200))}\n",
    "# 进行参数的搜索组合\n",
    "grid = GridSearchCV(RandomForestClassifier(), param_grid=tree_grid_parameter, cv=3)\n",
    "# grid = GridSearchCV(GradientBoostingClassifier(), param_grid=tree_grid_parameter, cv=3)\n",
    "# 根据已有数据去拟合随机森林模型\n",
    "grid.fit(tran_x, tran_y)\n",
    "rfr = RandomForestClassifier(n_estimators=grid.best_params_['n_estimators'])\n",
    "# rfr = GradientBoostingClassifier(n_estimators=grid.best_params_['n_estimators'])\n",
    "rfr.fit(tran_x, tran_y)\n",
    "# 预测缺失值\n",
    "predictions = rfr.predict(test_x)"
   ]
  },
  {
   "cell_type": "markdown",
   "metadata": {},
   "source": [
    "### SVR"
   ]
  },
  {
   "cell_type": "code",
   "execution_count": null,
   "metadata": {},
   "outputs": [],
   "source": [
    "# SVR\n",
    "from sklearn.svm import SVR\n",
    "svr = SVR(kernel='linear', C=1.25)\n",
    "svr.fit(tran_x,tran_y)\n",
    "predictions=svr.predict(test_x)"
   ]
  },
  {
   "cell_type": "markdown",
   "metadata": {},
   "source": [
    "### KNN"
   ]
  },
  {
   "cell_type": "code",
   "execution_count": null,
   "metadata": {},
   "outputs": [],
   "source": [
    "# KNN训练\n",
    "from sklearn.neighbors import KNeighborsRegressor\n",
    "knn = KNeighborsRegressor()\n",
    "knn.fit(tran_x,tran_y)\n",
    "predictions=knn.predict(test_x)"
   ]
  },
  {
   "cell_type": "markdown",
   "metadata": {},
   "source": [
    "### linear model"
   ]
  },
  {
   "cell_type": "code",
   "execution_count": null,
   "metadata": {},
   "outputs": [],
   "source": [
    "# Linear回归，Lasso回归，领回归\n",
    "from sklearn.linear_model import LinearRegression,Lasso,Ridge,LogisticRegression\n",
    "lcv = LogisticRegression()\n",
    "lcv.fit(tran_x, tran_y)\n",
    "predictions = lcv.predict(test_x)"
   ]
  },
  {
   "cell_type": "markdown",
   "metadata": {},
   "source": [
    "## 计算评价指标"
   ]
  },
  {
   "cell_type": "code",
   "execution_count": 73,
   "metadata": {},
   "outputs": [
    {
     "name": "stdout",
     "output_type": "stream",
     "text": [
      "-----------------------计算R2和均方误差MSE---------------------------\n",
      "r2:  0.16666666666666666\n",
      "MSE:  0.13333333333333333\n",
      "MAE:  0.14814814814814814\n"
     ]
    }
   ],
   "source": [
    "# 计算R2和均方误差MSE\n",
    "print('-----------------------计算R2和均方误差MSE---------------------------')\n",
    "\n",
    "from sklearn.metrics import mean_squared_error  # 均方误差\n",
    "from sklearn.metrics import mean_absolute_error  # 平方绝对误差\n",
    "from sklearn.metrics import precision_score,recall_score,f1_score  # R square\n",
    "# 调用\n",
    "\n",
    "r2 = precision_score(test_y,predictions)\n",
    "print('r2: ',r2)\n",
    "mse=recall_score(test_y,predictions)\n",
    "print('MSE: ',mse)\n",
    "mae=f1_score(test_y,predictions)\n",
    "print('MAE: ',mae)"
   ]
  },
  {
   "cell_type": "code",
   "execution_count": 54,
   "metadata": {},
   "outputs": [
    {
     "data": {
      "text/plain": [
       "(144,)"
      ]
     },
     "execution_count": 54,
     "metadata": {},
     "output_type": "execute_result"
    }
   ],
   "source": [
    "test_y.shape"
   ]
  },
  {
   "cell_type": "code",
   "execution_count": 75,
   "metadata": {},
   "outputs": [],
   "source": [
    "df_predictions= pd.DataFrame(data={'真实值':test_y,'预测值':predictions})\n",
    "writer = pd.ExcelWriter(project_path + '/data/result/df_model_测试集结果.xlsx')\n",
    "df_predictions.to_excel(writer)\n",
    "writer.save()"
   ]
  },
  {
   "cell_type": "markdown",
   "metadata": {},
   "source": [
    "## 画图"
   ]
  },
  {
   "cell_type": "code",
   "execution_count": null,
   "metadata": {},
   "outputs": [],
   "source": [
    "# 判断文件路径是否存在，如果不存在则创建该路径\n",
    "def mkdir(path):\n",
    "    folder = os.path.exists(path)\n",
    "    if not folder:  # 判断是否存在文件夹如果不存在则创建为文件夹\n",
    "        os.makedirs(path)  # makedirs 创建文件时如果路径不存在会创建这个路径"
   ]
  },
  {
   "cell_type": "code",
   "execution_count": null,
   "metadata": {},
   "outputs": [],
   "source": [
    "# 画图\n",
    "print('-----------------------画图---------------------------')\n",
    "from pylab import mpl\n",
    "mpl.rcParams['font.sans-serif'] = ['SimHei']  ##绘图显示中文\n",
    "mpl.rcParams['axes.unicode_minus'] = False\n",
    "\n",
    "from matplotlib import pyplot as plt\n",
    "import matplotlib.ticker as ticker\n",
    "from matplotlib import rc\n",
    "rc('mathtext', default='regular')\n",
    "\n",
    "# 散点图\n",
    "# axis设置坐标轴的范围\n",
    "# plt.axis([-20, 20, 0, 200])\n",
    "# x为x轴中坐标x的值，y为y轴中坐标y的值，x与y都是长度相同的数组序列，color为点的颜色，marker为散点的形状，\n",
    "# 折线图刻度调小，要不然点都堆到一块了\n",
    "ax = plt.gca()\n",
    "ax.set_xlim(0,10)\n",
    "ax.set_ylim(0,10)\n",
    "# plt.scatter(range(len(test_y)),test_y,c='r')\n",
    "plt.scatter(test_y,predictions,c='b')\n",
    "# 红色参照线\n",
    "plt.plot(list(range(test_y.shape[0])), list(range(test_y.shape[0])),color='r')\n",
    "# plt.plot(list(range(30)), list(range(30)),color='r')\n",
    "plt.xlabel('Number of Events(unit)')\n",
    "plt.ylabel('MTX Bone Suppression')\n",
    "# plt.show()\n",
    "# 判断图片保存路径是否存在，否则创建\n",
    "jpg_path = project_path + \"/jpg\"\n",
    "mkdir(jpg_path)\n",
    "plt.savefig(jpg_path + \"/他克莫司血药浓度测试集散点图v2.0.jpg\", dpi=300)\n",
    "plt.clf()  # 删除前面所画的图"
   ]
  },
  {
   "cell_type": "code",
   "execution_count": null,
   "metadata": {},
   "outputs": [],
   "source": [
    "'''\n",
    "# 重要性\n",
    "import catboost,xgboost\n",
    "model_boost=xgboost.XGBRegressor()\n",
    "model_boost.fit(tran_x,tran_y)\n",
    "importance = model_boost.feature_importances_\n",
    "print(tran_x.columns)\n",
    "print(importance)\n",
    "\n",
    "df_importance= pd.DataFrame(data={'特征':tran_x.columns,'重要性评分':importance})\n",
    "df_importance['重要性评分']=df_importance['重要性评分'].apply(lambda x: round(x,3))\n",
    "df_importance=df_importance.sort_values(['重要性评分'],ascending=False)\n",
    "df_importance=df_importance.reset_index(drop=True)\n",
    "writer = pd.ExcelWriter(project_path + '/result/df_19_模型重要性评分.xlsx')\n",
    "df_importance.to_excel(writer)\n",
    "writer.save()\n",
    "\n",
    "# SHAP图\n",
    "from pylab import mpl\n",
    "mpl.rcParams['font.sans-serif'] = ['SimHei']  ##绘图显示中文\n",
    "mpl.rcParams['axes.unicode_minus'] = False\n",
    "from matplotlib import rc\n",
    "rc('mathtext', default='regular')\n",
    "\n",
    "import xgboost as xgb\n",
    "import shap\n",
    "shap.initjs()  # notebook环境下，加载用于可视化的JS代码\n",
    "\n",
    "importance_list_10 = list(df_importance['特征'])[:10]\n",
    "tran_x=tran_x[importance_list_10]\n",
    "shap_model = xgb.XGBRegressor(max_depth=4, learning_rate=0.05, n_estimators=300)\n",
    "shap_model.fit(tran_x, tran_y)\n",
    "\n",
    "explainer = shap.TreeExplainer(shap_model)\n",
    "shap_values = explainer.shap_values(tran_x)  # 传入特征矩阵X，计算SHAP值\n",
    "# print(shap_values)\n",
    "# summarize the effects of all the features\n",
    "shap.summary_plot(shap_values, tran_x, plot_size=(20,12))\n",
    "# 保存各个变量的shape值的和\n",
    "df_shap_values=pd.DataFrame(shap_values)\n",
    "shap_list=[]\n",
    "for i in range(df_shap_values.shape[1]):\n",
    "    df_shap_values.iloc[:,i] = df_shap_values.iloc[:,i].apply(lambda x: abs(x))\n",
    "for j in range(df_shap_values.shape[1]):\n",
    "    feature_mean = df_shap_values.iloc[:,j].mean()\n",
    "    feature_mean = round(feature_mean, 2)\n",
    "    shap_list.append(feature_mean)\n",
    "\n",
    "df_shap = pd.DataFrame({'features':list(tran_x.columns),'shap值':shap_list})\n",
    "df_shap = df_shap.sort_values(by=['shap值'], ascending=False)\n",
    "df_shap = df_shap.reset_index(drop=True)\n",
    "\n",
    "writer = pd.ExcelWriter(project_path + '/result/df_20_shap值排序.xlsx')\n",
    "df_shap.to_excel(writer)\n",
    "writer.save()\n",
    "'''"
   ]
  },
  {
   "cell_type": "code",
   "execution_count": null,
   "metadata": {},
   "outputs": [],
   "source": []
  }
 ],
 "metadata": {
  "kernelspec": {
   "display_name": "Python 3",
   "language": "python",
   "name": "python3"
  },
  "language_info": {
   "codemirror_mode": {
    "name": "ipython",
    "version": 3
   },
   "file_extension": ".py",
   "mimetype": "text/x-python",
   "name": "python",
   "nbconvert_exporter": "python",
   "pygments_lexer": "ipython3",
   "version": "3.6.8"
  },
  "toc": {
   "base_numbering": 1,
   "nav_menu": {},
   "number_sections": true,
   "sideBar": true,
   "skip_h1_title": false,
   "title_cell": "Table of Contents",
   "title_sidebar": "Contents",
   "toc_cell": false,
   "toc_position": {
    "height": "calc(100% - 180px)",
    "left": "10px",
    "top": "150px",
    "width": "460.8px"
   },
   "toc_section_display": true,
   "toc_window_display": true
  },
  "varInspector": {
   "cols": {
    "lenName": 16,
    "lenType": 16,
    "lenVar": 40
   },
   "kernels_config": {
    "python": {
     "delete_cmd_postfix": "",
     "delete_cmd_prefix": "del ",
     "library": "var_list.py",
     "varRefreshCmd": "print(var_dic_list())"
    },
    "r": {
     "delete_cmd_postfix": ") ",
     "delete_cmd_prefix": "rm(",
     "library": "var_list.r",
     "varRefreshCmd": "cat(var_dic_list()) "
    }
   },
   "types_to_exclude": [
    "module",
    "function",
    "builtin_function_or_method",
    "instance",
    "_Feature"
   ],
   "window_display": false
  }
 },
 "nbformat": 4,
 "nbformat_minor": 2
}
